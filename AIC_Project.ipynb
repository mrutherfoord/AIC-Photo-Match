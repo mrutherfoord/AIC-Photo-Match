{
  "nbformat": 4,
  "nbformat_minor": 0,
  "metadata": {
    "colab": {
      "name": "AIC_Project.ipynb",
      "provenance": [],
      "collapsed_sections": [],
      "mount_file_id": "1oQRO7FpDO2RajBfSwZJZuBU8yipS_Jzu",
      "authorship_tag": "ABX9TyPAVhC+tqqWVDsS+C2XFRfu",
      "include_colab_link": true
    },
    "kernelspec": {
      "name": "python3",
      "display_name": "Python 3"
    }
  },
  "cells": [
    {
      "cell_type": "markdown",
      "metadata": {
        "id": "view-in-github",
        "colab_type": "text"
      },
      "source": [
        "<a href=\"https://colab.research.google.com/github/mrutherfoord/AIC-Photo-Match/blob/master/AIC_Project.ipynb\" target=\"_parent\"><img src=\"https://colab.research.google.com/assets/colab-badge.svg\" alt=\"Open In Colab\"/></a>"
      ]
    },
    {
      "cell_type": "code",
      "metadata": {
        "id": "CCmPd0gudWS9",
        "colab_type": "code",
        "colab": {}
      },
      "source": [
        "import boto3\n",
        "from botocore.exceptions import NoCredentialsError"
      ],
      "execution_count": 0,
      "outputs": []
    },
    {
      "cell_type": "code",
      "metadata": {
        "id": "nKUN78ZBl7f2",
        "colab_type": "code",
        "colab": {}
      },
      "source": [
        "# AWS access keys HIDE THESE!!\n",
        "ACCESS_KEY = '***************************'\n",
        "SECRET_KEY = '***************************'"
      ],
      "execution_count": 0,
      "outputs": []
    },
    {
      "cell_type": "code",
      "metadata": {
        "id": "lRMVMwRjlh1M",
        "colab_type": "code",
        "colab": {}
      },
      "source": [
        "# Function to upload to an AWS bucket\n",
        "def upload_to_aws(local_file, bucket, s3_file):\n",
        "  '''Upload a file to an AWS S3 bucket'''\n",
        "  s3 = boto3.client('s3', aws_access_key_id=ACCESS_KEY,\n",
        "                      aws_secret_access_key=SECRET_KEY)\n",
        "\n",
        "  try:\n",
        "    s3.upload_file(local_file, bucket, s3_file)\n",
        "    print(\"Upload Successful\")\n",
        "    return True\n",
        "  except FileNotFoundError:\n",
        "    print(\"The file was not found\")\n",
        "    return False\n",
        "  except NoCredentialsError:\n",
        "    print(\"Credentials not available\")\n",
        "    return False"
      ],
      "execution_count": 0,
      "outputs": []
    },
    {
      "cell_type": "code",
      "metadata": {
        "id": "DjkdWz4V2rj8",
        "colab_type": "code",
        "colab": {
          "base_uri": "https://localhost:8080/",
          "height": 52
        },
        "outputId": "8a602a3c-6007-4a7e-b503-17bc65331560"
      },
      "source": [
        "# Testing function to upload to an AWS bucket\n",
        "upload_to_aws('sample_data/README.md', 'mrutherfoordtestbucket', 'test')"
      ],
      "execution_count": 19,
      "outputs": [
        {
          "output_type": "stream",
          "text": [
            "Upload Successful\n"
          ],
          "name": "stdout"
        },
        {
          "output_type": "execute_result",
          "data": {
            "text/plain": [
              "True"
            ]
          },
          "metadata": {
            "tags": []
          },
          "execution_count": 19
        }
      ]
    },
    {
      "cell_type": "code",
      "metadata": {
        "id": "RGthoqkk23If",
        "colab_type": "code",
        "colab": {}
      },
      "source": [
        "# importing modules for gathering API data\n",
        "import requests\n",
        "import json"
      ],
      "execution_count": 0,
      "outputs": []
    },
    {
      "cell_type": "code",
      "metadata": {
        "id": "GyZoUxSAEAWt",
        "colab_type": "code",
        "colab": {
          "base_uri": "https://localhost:8080/",
          "height": 34
        },
        "outputId": "58ce7d1a-bc0f-47fc-a0be-e9f63de1857c"
      },
      "source": [
        "# testing the images endpoint from the AIC API\n",
        "aic_url = \"https://api.artic.edu/api/v1/images\"\n",
        "response = requests.get(aic_url)\n",
        "print(response.status_code)"
      ],
      "execution_count": 3,
      "outputs": [
        {
          "output_type": "stream",
          "text": [
            "200\n"
          ],
          "name": "stdout"
        }
      ]
    },
    {
      "cell_type": "code",
      "metadata": {
        "id": "8CM2XUV754T5",
        "colab_type": "code",
        "colab": {}
      },
      "source": [
        "# pull all data from AIC API images endpoint\n",
        "aic_full = response.json()\n",
        "aic_images = aic_full[\"data\"]\n",
        "while aic_full[\"pagination\"][\"next_url\"]:\n",
        "  try:\n",
        "    aic_full = requests.get(aic_full[\"pagination\"][\"next_url\"]).json()\n",
        "    aic_images.extend(aic_full[\"data\"])\n",
        "    if aic_full[\"pagination\"][\"current_page\"] % 100 == 0:\n",
        "      print(f'Current Page is {aic_full[\"pagination\"][\"current_page\"]}')\n",
        "  except KeyError:\n",
        "    break"
      ],
      "execution_count": 0,
      "outputs": []
    },
    {
      "cell_type": "code",
      "metadata": {
        "id": "hMxTgTB8Ef59",
        "colab_type": "code",
        "colab": {
          "base_uri": "https://localhost:8080/",
          "height": 34
        },
        "outputId": "e16546f5-86d6-4b19-d3d0-069447c4a073"
      },
      "source": [
        "# length of dictionary\n",
        "print(len(aic_images))"
      ],
      "execution_count": 6,
      "outputs": [
        {
          "output_type": "stream",
          "text": [
            "141596\n"
          ],
          "name": "stdout"
        }
      ]
    },
    {
      "cell_type": "code",
      "metadata": {
        "id": "LgFhN6wxHjyR",
        "colab_type": "code",
        "colab": {}
      },
      "source": [
        "# export AIC API image data to csv\n",
        "import csv\n",
        "keys = aic_images[0].keys()\n",
        "with open('aic_api_images_json.csv', 'w') as output_file:\n",
        "    dict_writer = csv.DictWriter(output_file, keys)\n",
        "    dict_writer.writeheader()\n",
        "    dict_writer.writerows(aic_images)"
      ],
      "execution_count": 0,
      "outputs": []
    },
    {
      "cell_type": "code",
      "metadata": {
        "id": "5CTg3ZKUarVU",
        "colab_type": "code",
        "colab": {
          "base_uri": "https://localhost:8080/",
          "height": 34
        },
        "outputId": "eeeda75e-34fa-4d71-f232-cad3541817dd"
      },
      "source": [
        "# the fields for the image endpoint don't describe the type of art and some other data I'd like to have\n",
        "# using the artworks endpoint to find more information about the pieces\n",
        "# testing the images endpoint from the AIC API\n",
        "aic_url = \"https://api.artic.edu/api/v1/artworks?fields=id,classification_titles,classification_ids,artist_titles,artist_ids&limit=50\"\n",
        "response = requests.get(aic_url)\n",
        "print(response.status_code)"
      ],
      "execution_count": 2,
      "outputs": [
        {
          "output_type": "stream",
          "text": [
            "200\n"
          ],
          "name": "stdout"
        }
      ]
    },
    {
      "cell_type": "code",
      "metadata": {
        "id": "nW7j5sWtbtnA",
        "colab_type": "code",
        "colab": {
          "base_uri": "https://localhost:8080/",
          "height": 34
        },
        "outputId": "a8efbc33-d9c0-428d-90d3-57d23265d3d1"
      },
      "source": [
        "# pull all data from AIC API artworks endpoint\n",
        "aic_artworks_full = response.json()\n",
        "aic_artworks = aic_artworks_full[\"data\"]\n",
        "while aic_artworks_full[\"pagination\"][\"next_url\"]:\n",
        "  aic_artworks_full = requests.get(aic_artworks_full[\"pagination\"][\"next_url\"]).json()\n",
        "  aic_artworks.extend(aic_artworks_full[\"data\"])\n",
        "  if aic_artworks_full[\"pagination\"][\"current_page\"] % 100 == 0:\n",
        "    print(f'Current Page is {aic_artworks_full[\"pagination\"][\"current_page\"]}')\n",
        "    break "
      ],
      "execution_count": 3,
      "outputs": [
        {
          "output_type": "stream",
          "text": [
            "Current Page is 100\n"
          ],
          "name": "stdout"
        }
      ]
    },
    {
      "cell_type": "code",
      "metadata": {
        "id": "1ziZhFXzDSh4",
        "colab_type": "code",
        "colab": {}
      },
      "source": [
        "js = json.dumps(aic_artworks)"
      ],
      "execution_count": 0,
      "outputs": []
    },
    {
      "cell_type": "code",
      "metadata": {
        "id": "SDPBGITeYYEM",
        "colab_type": "code",
        "colab": {}
      },
      "source": [
        "import pandas as pd\n",
        "js_df = pd.read_json(js)"
      ],
      "execution_count": 0,
      "outputs": []
    },
    {
      "cell_type": "code",
      "metadata": {
        "id": "LezBiVzrYdW_",
        "colab_type": "code",
        "colab": {
          "base_uri": "https://localhost:8080/",
          "height": 419
        },
        "outputId": "f8448b0e-dcd0-434d-9243-e911cdcad90b"
      },
      "source": [
        "js_df"
      ],
      "execution_count": 12,
      "outputs": [
        {
          "output_type": "execute_result",
          "data": {
            "text/html": [
              "<div>\n",
              "<style scoped>\n",
              "    .dataframe tbody tr th:only-of-type {\n",
              "        vertical-align: middle;\n",
              "    }\n",
              "\n",
              "    .dataframe tbody tr th {\n",
              "        vertical-align: top;\n",
              "    }\n",
              "\n",
              "    .dataframe thead th {\n",
              "        text-align: right;\n",
              "    }\n",
              "</style>\n",
              "<table border=\"1\" class=\"dataframe\">\n",
              "  <thead>\n",
              "    <tr style=\"text-align: right;\">\n",
              "      <th></th>\n",
              "      <th>id</th>\n",
              "      <th>artist_ids</th>\n",
              "      <th>artist_titles</th>\n",
              "      <th>classification_ids</th>\n",
              "      <th>classification_titles</th>\n",
              "    </tr>\n",
              "  </thead>\n",
              "  <tbody>\n",
              "    <tr>\n",
              "      <th>0</th>\n",
              "      <td>145137</td>\n",
              "      <td>[35776]</td>\n",
              "      <td>[Sir John Everett Millais]</td>\n",
              "      <td>[TM-5, TM-175, TM-4]</td>\n",
              "      <td>[drawings (visual works), graphite, prints and...</td>\n",
              "    </tr>\n",
              "    <tr>\n",
              "      <th>1</th>\n",
              "      <td>112280</td>\n",
              "      <td>[37300]</td>\n",
              "      <td>[David Wilkie]</td>\n",
              "      <td>[TM-5, TM-212, TM-4]</td>\n",
              "      <td>[drawings (visual works), pen and ink drawings...</td>\n",
              "    </tr>\n",
              "    <tr>\n",
              "      <th>2</th>\n",
              "      <td>241242</td>\n",
              "      <td>[50578]</td>\n",
              "      <td>[Fon]</td>\n",
              "      <td>[TM-13486, TM-12318, TM-12858, TM-12923]</td>\n",
              "      <td>[african art, ritual objects, altar, altar obj...</td>\n",
              "    </tr>\n",
              "    <tr>\n",
              "      <th>3</th>\n",
              "      <td>239462</td>\n",
              "      <td>[30150, 116308]</td>\n",
              "      <td>[Makonde, Diteka]</td>\n",
              "      <td>[TM-2332, TM-245, TM-13486, TM-12149]</td>\n",
              "      <td>[headdress - misc, masks, african art, ceremon...</td>\n",
              "    </tr>\n",
              "    <tr>\n",
              "      <th>4</th>\n",
              "      <td>83889</td>\n",
              "      <td>[33229]</td>\n",
              "      <td>[Willem de Kooning]</td>\n",
              "      <td>[TM-5, TM-229, TM-4]</td>\n",
              "      <td>[drawings (visual works), pastel, prints and d...</td>\n",
              "    </tr>\n",
              "    <tr>\n",
              "      <th>...</th>\n",
              "      <td>...</td>\n",
              "      <td>...</td>\n",
              "      <td>...</td>\n",
              "      <td>...</td>\n",
              "      <td>...</td>\n",
              "    </tr>\n",
              "    <tr>\n",
              "      <th>4995</th>\n",
              "      <td>113218</td>\n",
              "      <td>[36289]</td>\n",
              "      <td>[Augustus Charles Pugin]</td>\n",
              "      <td>[TM-5, TM-175, TM-4]</td>\n",
              "      <td>[drawings (visual works), graphite, prints and...</td>\n",
              "    </tr>\n",
              "    <tr>\n",
              "      <th>4996</th>\n",
              "      <td>113217</td>\n",
              "      <td>[36289]</td>\n",
              "      <td>[Augustus Charles Pugin]</td>\n",
              "      <td>[TM-5, TM-175, TM-4]</td>\n",
              "      <td>[drawings (visual works), graphite, prints and...</td>\n",
              "    </tr>\n",
              "    <tr>\n",
              "      <th>4997</th>\n",
              "      <td>113228</td>\n",
              "      <td>[36289]</td>\n",
              "      <td>[Augustus Charles Pugin]</td>\n",
              "      <td>[TM-5, TM-175, TM-4]</td>\n",
              "      <td>[drawings (visual works), graphite, prints and...</td>\n",
              "    </tr>\n",
              "    <tr>\n",
              "      <th>4998</th>\n",
              "      <td>113226</td>\n",
              "      <td>[36289]</td>\n",
              "      <td>[Augustus Charles Pugin]</td>\n",
              "      <td>[TM-5, TM-212, TM-4]</td>\n",
              "      <td>[drawings (visual works), pen and ink drawings...</td>\n",
              "    </tr>\n",
              "    <tr>\n",
              "      <th>4999</th>\n",
              "      <td>113225</td>\n",
              "      <td>[36289]</td>\n",
              "      <td>[Augustus Charles Pugin]</td>\n",
              "      <td>[TM-5, TM-175, TM-4]</td>\n",
              "      <td>[drawings (visual works), graphite, prints and...</td>\n",
              "    </tr>\n",
              "  </tbody>\n",
              "</table>\n",
              "<p>5000 rows × 5 columns</p>\n",
              "</div>"
            ],
            "text/plain": [
              "          id  ...                              classification_titles\n",
              "0     145137  ...  [drawings (visual works), graphite, prints and...\n",
              "1     112280  ...  [drawings (visual works), pen and ink drawings...\n",
              "2     241242  ...  [african art, ritual objects, altar, altar obj...\n",
              "3     239462  ...  [headdress - misc, masks, african art, ceremon...\n",
              "4      83889  ...  [drawings (visual works), pastel, prints and d...\n",
              "...      ...  ...                                                ...\n",
              "4995  113218  ...  [drawings (visual works), graphite, prints and...\n",
              "4996  113217  ...  [drawings (visual works), graphite, prints and...\n",
              "4997  113228  ...  [drawings (visual works), graphite, prints and...\n",
              "4998  113226  ...  [drawings (visual works), pen and ink drawings...\n",
              "4999  113225  ...  [drawings (visual works), graphite, prints and...\n",
              "\n",
              "[5000 rows x 5 columns]"
            ]
          },
          "metadata": {
            "tags": []
          },
          "execution_count": 12
        }
      ]
    },
    {
      "cell_type": "code",
      "metadata": {
        "id": "KeCD2l-Xr6KN",
        "colab_type": "code",
        "colab": {}
      },
      "source": [
        "f = lambda x: 'artist_ids_{}'.format(x + 1)\n",
        "js_artist_ids = pd.DataFrame(\n",
        "    js_df.artist_ids.values.tolist(),\n",
        "    js_df.index, dtype=object\n",
        ").fillna('').rename(columns=f)"
      ],
      "execution_count": 0,
      "outputs": []
    },
    {
      "cell_type": "code",
      "metadata": {
        "id": "Iiism60otJWd",
        "colab_type": "code",
        "colab": {}
      },
      "source": [
        "js_df.drop(['artist_ids'], axis=1, inplace=True)"
      ],
      "execution_count": 0,
      "outputs": []
    },
    {
      "cell_type": "code",
      "metadata": {
        "id": "DH1ChJyit3YS",
        "colab_type": "code",
        "colab": {
          "base_uri": "https://localhost:8080/",
          "height": 555
        },
        "outputId": "695116ab-17bf-43fa-debf-b0c62be3082c"
      },
      "source": [
        "dataframes = [js_df, js_artist_ids]\n",
        "df_new = pd.concat(dataframes, axis=1)\n",
        "df_new"
      ],
      "execution_count": 24,
      "outputs": [
        {
          "output_type": "execute_result",
          "data": {
            "text/html": [
              "<div>\n",
              "<style scoped>\n",
              "    .dataframe tbody tr th:only-of-type {\n",
              "        vertical-align: middle;\n",
              "    }\n",
              "\n",
              "    .dataframe tbody tr th {\n",
              "        vertical-align: top;\n",
              "    }\n",
              "\n",
              "    .dataframe thead th {\n",
              "        text-align: right;\n",
              "    }\n",
              "</style>\n",
              "<table border=\"1\" class=\"dataframe\">\n",
              "  <thead>\n",
              "    <tr style=\"text-align: right;\">\n",
              "      <th></th>\n",
              "      <th>id</th>\n",
              "      <th>artist_titles</th>\n",
              "      <th>classification_ids</th>\n",
              "      <th>classification_titles</th>\n",
              "      <th>artist_ids_1</th>\n",
              "      <th>artist_ids_2</th>\n",
              "    </tr>\n",
              "  </thead>\n",
              "  <tbody>\n",
              "    <tr>\n",
              "      <th>0</th>\n",
              "      <td>145137</td>\n",
              "      <td>[Sir John Everett Millais]</td>\n",
              "      <td>[TM-5, TM-175, TM-4]</td>\n",
              "      <td>[drawings (visual works), graphite, prints and...</td>\n",
              "      <td>35776</td>\n",
              "      <td></td>\n",
              "    </tr>\n",
              "    <tr>\n",
              "      <th>1</th>\n",
              "      <td>112280</td>\n",
              "      <td>[David Wilkie]</td>\n",
              "      <td>[TM-5, TM-212, TM-4]</td>\n",
              "      <td>[drawings (visual works), pen and ink drawings...</td>\n",
              "      <td>37300</td>\n",
              "      <td></td>\n",
              "    </tr>\n",
              "    <tr>\n",
              "      <th>2</th>\n",
              "      <td>241242</td>\n",
              "      <td>[Fon]</td>\n",
              "      <td>[TM-13486, TM-12318, TM-12858, TM-12923]</td>\n",
              "      <td>[african art, ritual objects, altar, altar obj...</td>\n",
              "      <td>50578</td>\n",
              "      <td></td>\n",
              "    </tr>\n",
              "    <tr>\n",
              "      <th>3</th>\n",
              "      <td>239462</td>\n",
              "      <td>[Makonde, Diteka]</td>\n",
              "      <td>[TM-2332, TM-245, TM-13486, TM-12149]</td>\n",
              "      <td>[headdress - misc, masks, african art, ceremon...</td>\n",
              "      <td>30150</td>\n",
              "      <td>116308</td>\n",
              "    </tr>\n",
              "    <tr>\n",
              "      <th>4</th>\n",
              "      <td>83889</td>\n",
              "      <td>[Willem de Kooning]</td>\n",
              "      <td>[TM-5, TM-229, TM-4]</td>\n",
              "      <td>[drawings (visual works), pastel, prints and d...</td>\n",
              "      <td>33229</td>\n",
              "      <td></td>\n",
              "    </tr>\n",
              "    <tr>\n",
              "      <th>...</th>\n",
              "      <td>...</td>\n",
              "      <td>...</td>\n",
              "      <td>...</td>\n",
              "      <td>...</td>\n",
              "      <td>...</td>\n",
              "      <td>...</td>\n",
              "    </tr>\n",
              "    <tr>\n",
              "      <th>4995</th>\n",
              "      <td>113218</td>\n",
              "      <td>[Augustus Charles Pugin]</td>\n",
              "      <td>[TM-5, TM-175, TM-4]</td>\n",
              "      <td>[drawings (visual works), graphite, prints and...</td>\n",
              "      <td>36289</td>\n",
              "      <td></td>\n",
              "    </tr>\n",
              "    <tr>\n",
              "      <th>4996</th>\n",
              "      <td>113217</td>\n",
              "      <td>[Augustus Charles Pugin]</td>\n",
              "      <td>[TM-5, TM-175, TM-4]</td>\n",
              "      <td>[drawings (visual works), graphite, prints and...</td>\n",
              "      <td>36289</td>\n",
              "      <td></td>\n",
              "    </tr>\n",
              "    <tr>\n",
              "      <th>4997</th>\n",
              "      <td>113228</td>\n",
              "      <td>[Augustus Charles Pugin]</td>\n",
              "      <td>[TM-5, TM-175, TM-4]</td>\n",
              "      <td>[drawings (visual works), graphite, prints and...</td>\n",
              "      <td>36289</td>\n",
              "      <td></td>\n",
              "    </tr>\n",
              "    <tr>\n",
              "      <th>4998</th>\n",
              "      <td>113226</td>\n",
              "      <td>[Augustus Charles Pugin]</td>\n",
              "      <td>[TM-5, TM-212, TM-4]</td>\n",
              "      <td>[drawings (visual works), pen and ink drawings...</td>\n",
              "      <td>36289</td>\n",
              "      <td></td>\n",
              "    </tr>\n",
              "    <tr>\n",
              "      <th>4999</th>\n",
              "      <td>113225</td>\n",
              "      <td>[Augustus Charles Pugin]</td>\n",
              "      <td>[TM-5, TM-175, TM-4]</td>\n",
              "      <td>[drawings (visual works), graphite, prints and...</td>\n",
              "      <td>36289</td>\n",
              "      <td></td>\n",
              "    </tr>\n",
              "  </tbody>\n",
              "</table>\n",
              "<p>5000 rows × 6 columns</p>\n",
              "</div>"
            ],
            "text/plain": [
              "          id               artist_titles  ... artist_ids_1 artist_ids_2\n",
              "0     145137  [Sir John Everett Millais]  ...        35776             \n",
              "1     112280              [David Wilkie]  ...        37300             \n",
              "2     241242                       [Fon]  ...        50578             \n",
              "3     239462           [Makonde, Diteka]  ...        30150       116308\n",
              "4      83889         [Willem de Kooning]  ...        33229             \n",
              "...      ...                         ...  ...          ...          ...\n",
              "4995  113218    [Augustus Charles Pugin]  ...        36289             \n",
              "4996  113217    [Augustus Charles Pugin]  ...        36289             \n",
              "4997  113228    [Augustus Charles Pugin]  ...        36289             \n",
              "4998  113226    [Augustus Charles Pugin]  ...        36289             \n",
              "4999  113225    [Augustus Charles Pugin]  ...        36289             \n",
              "\n",
              "[5000 rows x 6 columns]"
            ]
          },
          "metadata": {
            "tags": []
          },
          "execution_count": 24
        }
      ]
    },
    {
      "cell_type": "code",
      "metadata": {
        "id": "p87BmLLloLk9",
        "colab_type": "code",
        "colab": {}
      },
      "source": [
        "# export AIC API artworks data to csv\n",
        "import csv\n",
        "keys = aic_artworks[0].keys()\n",
        "with open('aic_api_artworks_json.csv', 'w') as output_file:\n",
        "    dict_writer = csv.DictWriter(output_file, keys)\n",
        "    dict_writer.writeheader()\n",
        "    dict_writer.writerows(aic_artworks)"
      ],
      "execution_count": 0,
      "outputs": []
    },
    {
      "cell_type": "code",
      "metadata": {
        "id": "T5QxGjJllwCw",
        "colab_type": "code",
        "colab": {}
      },
      "source": [
        "# import images and artwork csvs to pandas dataframe\n",
        "import pandas as pd\n",
        "images_df = pd.read_csv('drive/My Drive/Colab Notebooks/aic_api_images_json.csv', usecols=['id','iiif_url', 'artwork_ids', 'artwork_titles'])\n",
        "artworks_df = pd.read_csv('drive/My Drive/Colab Notebooks/aic_api_artworks_json.csv')"
      ],
      "execution_count": 0,
      "outputs": []
    },
    {
      "cell_type": "markdown",
      "metadata": {
        "id": "uEvuGa5oUyvD",
        "colab_type": "text"
      },
      "source": [
        "Visually, it looked like the method worked for successfully pulling the data I needed and converting it to dataframes, but when I went to separate the values that are in lists to separate columns, they were not in lists, but counted as a single object. If I ran something like len(df.col[0][0]) for ['TM-5'] it would return 8 instead of 1. So I decided I needed to run my code again and put the resulting JSON into a dataframe immediately before saving to a .csv format."
      ]
    },
    {
      "cell_type": "markdown",
      "metadata": {
        "id": "Idl0QBLSwJ1O",
        "colab_type": "text"
      },
      "source": [
        "# Second Attempt at Getting AIC API DATA"
      ]
    },
    {
      "cell_type": "code",
      "metadata": {
        "id": "6HDlxJSQwQeh",
        "colab_type": "code",
        "colab": {}
      },
      "source": [
        "# importing modules for gathering API data\n",
        "import requests\n",
        "import json\n",
        "\n",
        "# modules for data cleaning\n",
        "import pandas as pd"
      ],
      "execution_count": 0,
      "outputs": []
    },
    {
      "cell_type": "code",
      "metadata": {
        "id": "H6XyB3TswgpC",
        "colab_type": "code",
        "colab": {
          "base_uri": "https://localhost:8080/",
          "height": 34
        },
        "outputId": "757fa833-a75a-4543-de9b-d7c895f4dcbc"
      },
      "source": [
        "# testing the images endpoint from the AIC API with the specific fields I need\n",
        "aic_images_url = \"https://aggregator-data.artic.edu/api/v1/images?fields=id,iiif_url,artwork_ids,artwork_titles&limit=50\"\n",
        "response = requests.get(aic_images_url)\n",
        "print(response.status_code)"
      ],
      "execution_count": 27,
      "outputs": [
        {
          "output_type": "stream",
          "text": [
            "200\n"
          ],
          "name": "stdout"
        }
      ]
    },
    {
      "cell_type": "code",
      "metadata": {
        "id": "nG33ASlXw42b",
        "colab_type": "code",
        "colab": {}
      },
      "source": [
        "# pull all data from AIC API images endpoint\n",
        "aic_full = response.json()\n",
        "aic_images = aic_full[\"data\"]\n",
        "while aic_full[\"pagination\"][\"next_url\"]:\n",
        "  try:\n",
        "    aic_full = requests.get(aic_full[\"pagination\"][\"next_url\"]).json()\n",
        "    aic_images.extend(aic_full[\"data\"])\n",
        "    if aic_full[\"pagination\"][\"current_page\"] % 100 == 0:\n",
        "      print(f'Current Page is {aic_full[\"pagination\"][\"current_page\"]}')\n",
        "  except KeyError:\n",
        "    aic_full[\"pagination\"][\"next_url\"] = False"
      ],
      "execution_count": 0,
      "outputs": []
    },
    {
      "cell_type": "code",
      "metadata": {
        "id": "FIb-sZxsn0nO",
        "colab_type": "code",
        "colab": {}
      },
      "source": [
        "# making sure the data is in json and converting it to a dataframe\n",
        "aic_img_json = json.dumps(aic_images)\n",
        "aic_img_df = pd.read_json(aic_img_json)"
      ],
      "execution_count": 0,
      "outputs": []
    },
    {
      "cell_type": "code",
      "metadata": {
        "id": "NlzQWfmWozWH",
        "colab_type": "code",
        "colab": {
          "base_uri": "https://localhost:8080/",
          "height": 419
        },
        "outputId": "7079cb91-4ead-41b1-fe9b-9c462eef0dde"
      },
      "source": [
        "aic_img_df"
      ],
      "execution_count": 65,
      "outputs": [
        {
          "output_type": "execute_result",
          "data": {
            "text/html": [
              "<div>\n",
              "<style scoped>\n",
              "    .dataframe tbody tr th:only-of-type {\n",
              "        vertical-align: middle;\n",
              "    }\n",
              "\n",
              "    .dataframe tbody tr th {\n",
              "        vertical-align: top;\n",
              "    }\n",
              "\n",
              "    .dataframe thead th {\n",
              "        text-align: right;\n",
              "    }\n",
              "</style>\n",
              "<table border=\"1\" class=\"dataframe\">\n",
              "  <thead>\n",
              "    <tr style=\"text-align: right;\">\n",
              "      <th></th>\n",
              "      <th>id</th>\n",
              "      <th>iiif_url</th>\n",
              "      <th>artwork_ids</th>\n",
              "      <th>artwork_titles</th>\n",
              "    </tr>\n",
              "  </thead>\n",
              "  <tbody>\n",
              "    <tr>\n",
              "      <th>0</th>\n",
              "      <td>ece84e75-d26f-eb5f-e641-ef4946ee3a1e</td>\n",
              "      <td>https://www.artic.edu/iiif/2/ece84e75-d26f-eb5...</td>\n",
              "      <td>[115407]</td>\n",
              "      <td>[Mill (recto); Tree (verso)]</td>\n",
              "    </tr>\n",
              "    <tr>\n",
              "      <th>1</th>\n",
              "      <td>c14a072b-be3c-1d94-030c-1eee4cbd5e11</td>\n",
              "      <td>https://www.artic.edu/iiif/2/c14a072b-be3c-1d9...</td>\n",
              "      <td>[112708]</td>\n",
              "      <td>[Raising of Lazarus (recto); Travelers with Ca...</td>\n",
              "    </tr>\n",
              "    <tr>\n",
              "      <th>2</th>\n",
              "      <td>bef42115-82f7-e406-439d-98f4ab21817c</td>\n",
              "      <td>https://www.artic.edu/iiif/2/bef42115-82f7-e40...</td>\n",
              "      <td>[93805]</td>\n",
              "      <td>[I Walk To and Fro through Civilization and I ...</td>\n",
              "    </tr>\n",
              "    <tr>\n",
              "      <th>3</th>\n",
              "      <td>7420ca52-33c8-6a71-d0db-0f5d180251c4</td>\n",
              "      <td>https://www.artic.edu/iiif/2/7420ca52-33c8-6a7...</td>\n",
              "      <td>[112708]</td>\n",
              "      <td>[Raising of Lazarus (recto); Travelers with Ca...</td>\n",
              "    </tr>\n",
              "    <tr>\n",
              "      <th>4</th>\n",
              "      <td>4a3519e1-6cd1-9b18-a3ac-4b2e2a91c622</td>\n",
              "      <td>https://www.artic.edu/iiif/2/4a3519e1-6cd1-9b1...</td>\n",
              "      <td>[41159]</td>\n",
              "      <td>[The Crucifixion with the Virgin and St. John ...</td>\n",
              "    </tr>\n",
              "    <tr>\n",
              "      <th>...</th>\n",
              "      <td>...</td>\n",
              "      <td>...</td>\n",
              "      <td>...</td>\n",
              "      <td>...</td>\n",
              "    </tr>\n",
              "    <tr>\n",
              "      <th>141657</th>\n",
              "      <td>f243ae62-a993-9c7e-a2a2-5808d418d960</td>\n",
              "      <td>https://www.artic.edu/iiif/2/f243ae62-a993-9c7...</td>\n",
              "      <td>[251284]</td>\n",
              "      <td>[Untitled (Brand Markings)]</td>\n",
              "    </tr>\n",
              "    <tr>\n",
              "      <th>141658</th>\n",
              "      <td>5f52b25e-12da-d2dd-81cc-d1ab480df575</td>\n",
              "      <td>https://www.artic.edu/iiif/2/5f52b25e-12da-d2d...</td>\n",
              "      <td>[251387]</td>\n",
              "      <td>[Project for Panel, Erie Street, Chicago]</td>\n",
              "    </tr>\n",
              "    <tr>\n",
              "      <th>141659</th>\n",
              "      <td>be00506e-234a-ecaf-ae6c-7728723d8e69</td>\n",
              "      <td>https://www.artic.edu/iiif/2/be00506e-234a-eca...</td>\n",
              "      <td>[251386]</td>\n",
              "      <td>[Project for Panel, Sam’s, Chicago]</td>\n",
              "    </tr>\n",
              "    <tr>\n",
              "      <th>141660</th>\n",
              "      <td>cc7dee5b-921f-e84e-cced-2b321d04b258</td>\n",
              "      <td>https://www.artic.edu/iiif/2/cc7dee5b-921f-e84...</td>\n",
              "      <td>[251291]</td>\n",
              "      <td>[Roman Berry]</td>\n",
              "    </tr>\n",
              "    <tr>\n",
              "      <th>141661</th>\n",
              "      <td>e00ce274-72d2-df70-28f3-d3e208d1f841</td>\n",
              "      <td>https://www.artic.edu/iiif/2/e00ce274-72d2-df7...</td>\n",
              "      <td>[]</td>\n",
              "      <td>[]</td>\n",
              "    </tr>\n",
              "  </tbody>\n",
              "</table>\n",
              "<p>141662 rows × 4 columns</p>\n",
              "</div>"
            ],
            "text/plain": [
              "                                          id  ...                                     artwork_titles\n",
              "0       ece84e75-d26f-eb5f-e641-ef4946ee3a1e  ...                       [Mill (recto); Tree (verso)]\n",
              "1       c14a072b-be3c-1d94-030c-1eee4cbd5e11  ...  [Raising of Lazarus (recto); Travelers with Ca...\n",
              "2       bef42115-82f7-e406-439d-98f4ab21817c  ...  [I Walk To and Fro through Civilization and I ...\n",
              "3       7420ca52-33c8-6a71-d0db-0f5d180251c4  ...  [Raising of Lazarus (recto); Travelers with Ca...\n",
              "4       4a3519e1-6cd1-9b18-a3ac-4b2e2a91c622  ...  [The Crucifixion with the Virgin and St. John ...\n",
              "...                                      ...  ...                                                ...\n",
              "141657  f243ae62-a993-9c7e-a2a2-5808d418d960  ...                        [Untitled (Brand Markings)]\n",
              "141658  5f52b25e-12da-d2dd-81cc-d1ab480df575  ...          [Project for Panel, Erie Street, Chicago]\n",
              "141659  be00506e-234a-ecaf-ae6c-7728723d8e69  ...                [Project for Panel, Sam’s, Chicago]\n",
              "141660  cc7dee5b-921f-e84e-cced-2b321d04b258  ...                                      [Roman Berry]\n",
              "141661  e00ce274-72d2-df70-28f3-d3e208d1f841  ...                                                 []\n",
              "\n",
              "[141662 rows x 4 columns]"
            ]
          },
          "metadata": {
            "tags": []
          },
          "execution_count": 65
        }
      ]
    },
    {
      "cell_type": "markdown",
      "metadata": {
        "id": "Tcnn5pFCWWq4",
        "colab_type": "text"
      },
      "source": [
        "This next section separates the list of columns into their own columns. I decided to only keep the first id and title."
      ]
    },
    {
      "cell_type": "code",
      "metadata": {
        "id": "NqRQ2TZ-oVBL",
        "colab_type": "code",
        "colab": {}
      },
      "source": [
        "# separating artwork_ids column\n",
        "f = lambda x: 'artwork_ids_{}'.format(x + 1)\n",
        "img_artwork_ids = pd.DataFrame(aic_img_df.artwork_ids.values.tolist(),aic_img_df.index, dtype=object).fillna('').rename(columns=f)"
      ],
      "execution_count": 0,
      "outputs": []
    },
    {
      "cell_type": "code",
      "metadata": {
        "id": "BtsLQX6gqeXq",
        "colab_type": "code",
        "colab": {}
      },
      "source": [
        "# keeping only the first column\n",
        "img_artwork_ids = img_artwork_ids['artwork_ids_1']"
      ],
      "execution_count": 0,
      "outputs": []
    },
    {
      "cell_type": "code",
      "metadata": {
        "id": "LUI_6kxIo_7A",
        "colab_type": "code",
        "colab": {}
      },
      "source": [
        "# separating the artwork_titles column\n",
        "f = lambda x: 'artwork_titles_{}'.format(x + 1)\n",
        "img_artwork_titles = pd.DataFrame(aic_img_df.artwork_titles.values.tolist(), aic_img_df.index, dtype=object).fillna('').rename(columns=f)"
      ],
      "execution_count": 0,
      "outputs": []
    },
    {
      "cell_type": "code",
      "metadata": {
        "id": "kfdR-jrjq5eK",
        "colab_type": "code",
        "colab": {}
      },
      "source": [
        "# keeping the first column\n",
        "img_artwork_titles = img_artwork_titles['artwork_titles_1']"
      ],
      "execution_count": 0,
      "outputs": []
    },
    {
      "cell_type": "code",
      "metadata": {
        "id": "BrNhh4YypX18",
        "colab_type": "code",
        "colab": {}
      },
      "source": [
        "# concatenating the new columns with the original data frame and cleaning it up\n",
        "aic_img_df.drop(['artwork_ids', 'artwork_titles'], axis=1, inplace=True)\n",
        "newframes = [aic_img_df, img_artwork_ids, img_artwork_titles]\n",
        "aic_img_final_df = pd.concat(newframes, axis=1)"
      ],
      "execution_count": 0,
      "outputs": []
    },
    {
      "cell_type": "code",
      "metadata": {
        "id": "K_YiZ5W1p7mj",
        "colab_type": "code",
        "colab": {
          "base_uri": "https://localhost:8080/",
          "height": 419
        },
        "outputId": "93a8cfac-4e24-417b-c5d2-12ade5adcc75"
      },
      "source": [
        "aic_img_final_df"
      ],
      "execution_count": 71,
      "outputs": [
        {
          "output_type": "execute_result",
          "data": {
            "text/html": [
              "<div>\n",
              "<style scoped>\n",
              "    .dataframe tbody tr th:only-of-type {\n",
              "        vertical-align: middle;\n",
              "    }\n",
              "\n",
              "    .dataframe tbody tr th {\n",
              "        vertical-align: top;\n",
              "    }\n",
              "\n",
              "    .dataframe thead th {\n",
              "        text-align: right;\n",
              "    }\n",
              "</style>\n",
              "<table border=\"1\" class=\"dataframe\">\n",
              "  <thead>\n",
              "    <tr style=\"text-align: right;\">\n",
              "      <th></th>\n",
              "      <th>id</th>\n",
              "      <th>iiif_url</th>\n",
              "      <th>artwork_ids_1</th>\n",
              "      <th>artwork_titles_1</th>\n",
              "    </tr>\n",
              "  </thead>\n",
              "  <tbody>\n",
              "    <tr>\n",
              "      <th>0</th>\n",
              "      <td>ece84e75-d26f-eb5f-e641-ef4946ee3a1e</td>\n",
              "      <td>https://www.artic.edu/iiif/2/ece84e75-d26f-eb5...</td>\n",
              "      <td>115407</td>\n",
              "      <td>Mill (recto); Tree (verso)</td>\n",
              "    </tr>\n",
              "    <tr>\n",
              "      <th>1</th>\n",
              "      <td>c14a072b-be3c-1d94-030c-1eee4cbd5e11</td>\n",
              "      <td>https://www.artic.edu/iiif/2/c14a072b-be3c-1d9...</td>\n",
              "      <td>112708</td>\n",
              "      <td>Raising of Lazarus (recto); Travelers with Car...</td>\n",
              "    </tr>\n",
              "    <tr>\n",
              "      <th>2</th>\n",
              "      <td>bef42115-82f7-e406-439d-98f4ab21817c</td>\n",
              "      <td>https://www.artic.edu/iiif/2/bef42115-82f7-e40...</td>\n",
              "      <td>93805</td>\n",
              "      <td>I Walk To and Fro through Civilization and I T...</td>\n",
              "    </tr>\n",
              "    <tr>\n",
              "      <th>3</th>\n",
              "      <td>7420ca52-33c8-6a71-d0db-0f5d180251c4</td>\n",
              "      <td>https://www.artic.edu/iiif/2/7420ca52-33c8-6a7...</td>\n",
              "      <td>112708</td>\n",
              "      <td>Raising of Lazarus (recto); Travelers with Car...</td>\n",
              "    </tr>\n",
              "    <tr>\n",
              "      <th>4</th>\n",
              "      <td>4a3519e1-6cd1-9b18-a3ac-4b2e2a91c622</td>\n",
              "      <td>https://www.artic.edu/iiif/2/4a3519e1-6cd1-9b1...</td>\n",
              "      <td>41159</td>\n",
              "      <td>The Crucifixion with the Virgin and St. John (...</td>\n",
              "    </tr>\n",
              "    <tr>\n",
              "      <th>...</th>\n",
              "      <td>...</td>\n",
              "      <td>...</td>\n",
              "      <td>...</td>\n",
              "      <td>...</td>\n",
              "    </tr>\n",
              "    <tr>\n",
              "      <th>141657</th>\n",
              "      <td>f243ae62-a993-9c7e-a2a2-5808d418d960</td>\n",
              "      <td>https://www.artic.edu/iiif/2/f243ae62-a993-9c7...</td>\n",
              "      <td>251284</td>\n",
              "      <td>Untitled (Brand Markings)</td>\n",
              "    </tr>\n",
              "    <tr>\n",
              "      <th>141658</th>\n",
              "      <td>5f52b25e-12da-d2dd-81cc-d1ab480df575</td>\n",
              "      <td>https://www.artic.edu/iiif/2/5f52b25e-12da-d2d...</td>\n",
              "      <td>251387</td>\n",
              "      <td>Project for Panel, Erie Street, Chicago</td>\n",
              "    </tr>\n",
              "    <tr>\n",
              "      <th>141659</th>\n",
              "      <td>be00506e-234a-ecaf-ae6c-7728723d8e69</td>\n",
              "      <td>https://www.artic.edu/iiif/2/be00506e-234a-eca...</td>\n",
              "      <td>251386</td>\n",
              "      <td>Project for Panel, Sam’s, Chicago</td>\n",
              "    </tr>\n",
              "    <tr>\n",
              "      <th>141660</th>\n",
              "      <td>cc7dee5b-921f-e84e-cced-2b321d04b258</td>\n",
              "      <td>https://www.artic.edu/iiif/2/cc7dee5b-921f-e84...</td>\n",
              "      <td>251291</td>\n",
              "      <td>Roman Berry</td>\n",
              "    </tr>\n",
              "    <tr>\n",
              "      <th>141661</th>\n",
              "      <td>e00ce274-72d2-df70-28f3-d3e208d1f841</td>\n",
              "      <td>https://www.artic.edu/iiif/2/e00ce274-72d2-df7...</td>\n",
              "      <td></td>\n",
              "      <td></td>\n",
              "    </tr>\n",
              "  </tbody>\n",
              "</table>\n",
              "<p>141662 rows × 4 columns</p>\n",
              "</div>"
            ],
            "text/plain": [
              "                                          id  ...                                   artwork_titles_1\n",
              "0       ece84e75-d26f-eb5f-e641-ef4946ee3a1e  ...                         Mill (recto); Tree (verso)\n",
              "1       c14a072b-be3c-1d94-030c-1eee4cbd5e11  ...  Raising of Lazarus (recto); Travelers with Car...\n",
              "2       bef42115-82f7-e406-439d-98f4ab21817c  ...  I Walk To and Fro through Civilization and I T...\n",
              "3       7420ca52-33c8-6a71-d0db-0f5d180251c4  ...  Raising of Lazarus (recto); Travelers with Car...\n",
              "4       4a3519e1-6cd1-9b18-a3ac-4b2e2a91c622  ...  The Crucifixion with the Virgin and St. John (...\n",
              "...                                      ...  ...                                                ...\n",
              "141657  f243ae62-a993-9c7e-a2a2-5808d418d960  ...                          Untitled (Brand Markings)\n",
              "141658  5f52b25e-12da-d2dd-81cc-d1ab480df575  ...            Project for Panel, Erie Street, Chicago\n",
              "141659  be00506e-234a-ecaf-ae6c-7728723d8e69  ...                  Project for Panel, Sam’s, Chicago\n",
              "141660  cc7dee5b-921f-e84e-cced-2b321d04b258  ...                                        Roman Berry\n",
              "141661  e00ce274-72d2-df70-28f3-d3e208d1f841  ...                                                   \n",
              "\n",
              "[141662 rows x 4 columns]"
            ]
          },
          "metadata": {
            "tags": []
          },
          "execution_count": 71
        }
      ]
    },
    {
      "cell_type": "code",
      "metadata": {
        "id": "vWQaAAqjr8EY",
        "colab_type": "code",
        "colab": {}
      },
      "source": [
        "# saving to .csv\n",
        "aic_img_final_df.to_csv('images_endpoint.csv')"
      ],
      "execution_count": 0,
      "outputs": []
    },
    {
      "cell_type": "code",
      "metadata": {
        "id": "VPwNFXI9tEE6",
        "colab_type": "code",
        "colab": {
          "base_uri": "https://localhost:8080/",
          "height": 34
        },
        "outputId": "bd7c9130-2e41-4415-fe73-2e6e0806d0f6"
      },
      "source": [
        "# the fields for the image endpoint don't describe the type of art and some other data I'd like to have\n",
        "# using the artworks endpoint to find more information about the pieces\n",
        "# testing the images endpoint from the AIC API\n",
        "aic_url = \"https://api.artic.edu/api/v1/artworks?fields=id,classification_titles,classification_ids,artist_titles,artist_ids&limit=50\"\n",
        "response = requests.get(aic_url)\n",
        "print(response.status_code)"
      ],
      "execution_count": 73,
      "outputs": [
        {
          "output_type": "stream",
          "text": [
            "200\n"
          ],
          "name": "stdout"
        }
      ]
    },
    {
      "cell_type": "code",
      "metadata": {
        "id": "RtI4WH7ztLDT",
        "colab_type": "code",
        "colab": {}
      },
      "source": [
        "# pull all data from AIC API artworks endpoint\n",
        "aic_artworks_full = response.json()\n",
        "aic_artworks = aic_artworks_full[\"data\"]\n",
        "while aic_artworks_full[\"pagination\"][\"next_url\"]:\n",
        "  aic_artworks_full = requests.get(aic_artworks_full[\"pagination\"][\"next_url\"]).json()\n",
        "  aic_artworks.extend(aic_artworks_full[\"data\"])\n",
        "  if aic_artworks_full[\"pagination\"][\"current_page\"] % 100 == 0:\n",
        "    print(f'Current Page is {aic_artworks_full[\"pagination\"][\"current_page\"]}')"
      ],
      "execution_count": 0,
      "outputs": []
    },
    {
      "cell_type": "code",
      "metadata": {
        "id": "mhq6-jY75FeL",
        "colab_type": "code",
        "colab": {}
      },
      "source": [
        "# making sure the data is in json and converting it to a dataframe\n",
        "aic_artworks_json = json.dumps(aic_artworks)\n",
        "aic_artworks_df = pd.read_json(aic_artworks_json)"
      ],
      "execution_count": 0,
      "outputs": []
    },
    {
      "cell_type": "code",
      "metadata": {
        "id": "fVJa5qpB5Tt-",
        "colab_type": "code",
        "colab": {
          "base_uri": "https://localhost:8080/",
          "height": 204
        },
        "outputId": "6d93b084-5a27-487f-fbee-8cefc3eda2e4"
      },
      "source": [
        "aic_artworks_df.head(5)"
      ],
      "execution_count": 87,
      "outputs": [
        {
          "output_type": "execute_result",
          "data": {
            "text/html": [
              "<div>\n",
              "<style scoped>\n",
              "    .dataframe tbody tr th:only-of-type {\n",
              "        vertical-align: middle;\n",
              "    }\n",
              "\n",
              "    .dataframe tbody tr th {\n",
              "        vertical-align: top;\n",
              "    }\n",
              "\n",
              "    .dataframe thead th {\n",
              "        text-align: right;\n",
              "    }\n",
              "</style>\n",
              "<table border=\"1\" class=\"dataframe\">\n",
              "  <thead>\n",
              "    <tr style=\"text-align: right;\">\n",
              "      <th></th>\n",
              "      <th>id</th>\n",
              "      <th>artist_ids</th>\n",
              "      <th>artist_titles</th>\n",
              "      <th>classification_ids</th>\n",
              "      <th>classification_titles</th>\n",
              "    </tr>\n",
              "  </thead>\n",
              "  <tbody>\n",
              "    <tr>\n",
              "      <th>0</th>\n",
              "      <td>56060</td>\n",
              "      <td>[36041]</td>\n",
              "      <td>[Bror Julius Olsson Nordfeldt]</td>\n",
              "      <td>[TM-17, TM-4, TM-18]</td>\n",
              "      <td>[print, prints and drawing, etching]</td>\n",
              "    </tr>\n",
              "    <tr>\n",
              "      <th>1</th>\n",
              "      <td>29098</td>\n",
              "      <td>[36041]</td>\n",
              "      <td>[Bror Julius Olsson Nordfeldt]</td>\n",
              "      <td>[TM-17, TM-4, TM-18]</td>\n",
              "      <td>[print, prints and drawing, etching]</td>\n",
              "    </tr>\n",
              "    <tr>\n",
              "      <th>2</th>\n",
              "      <td>47592</td>\n",
              "      <td>[36041]</td>\n",
              "      <td>[Bror Julius Olsson Nordfeldt]</td>\n",
              "      <td>[TM-17, TM-4, TM-18]</td>\n",
              "      <td>[print, prints and drawing, etching]</td>\n",
              "    </tr>\n",
              "    <tr>\n",
              "      <th>3</th>\n",
              "      <td>47440</td>\n",
              "      <td>[36041]</td>\n",
              "      <td>[Bror Julius Olsson Nordfeldt]</td>\n",
              "      <td>[TM-17, TM-4, TM-18]</td>\n",
              "      <td>[print, prints and drawing, etching]</td>\n",
              "    </tr>\n",
              "    <tr>\n",
              "      <th>4</th>\n",
              "      <td>134340</td>\n",
              "      <td>[37541]</td>\n",
              "      <td>[Ancient Egyptian]</td>\n",
              "      <td>[TM-1392, TM-1414, TM-81]</td>\n",
              "      <td>[ancient art, scarab, costume]</td>\n",
              "    </tr>\n",
              "  </tbody>\n",
              "</table>\n",
              "</div>"
            ],
            "text/plain": [
              "       id  ...                 classification_titles\n",
              "0   56060  ...  [print, prints and drawing, etching]\n",
              "1   29098  ...  [print, prints and drawing, etching]\n",
              "2   47592  ...  [print, prints and drawing, etching]\n",
              "3   47440  ...  [print, prints and drawing, etching]\n",
              "4  134340  ...        [ancient art, scarab, costume]\n",
              "\n",
              "[5 rows x 5 columns]"
            ]
          },
          "metadata": {
            "tags": []
          },
          "execution_count": 87
        }
      ]
    },
    {
      "cell_type": "code",
      "metadata": {
        "id": "oO9k6XbO5cii",
        "colab_type": "code",
        "colab": {}
      },
      "source": [
        "# separating artist_ids column\n",
        "f = lambda x: 'artist_ids_{}'.format(x + 1)\n",
        "art_artist_ids = pd.DataFrame(aic_artworks_df.artist_ids.values.tolist(), aic_artworks_df.index, dtype=object).fillna('').rename(columns=f)"
      ],
      "execution_count": 0,
      "outputs": []
    },
    {
      "cell_type": "code",
      "metadata": {
        "id": "icCcGSgz594i",
        "colab_type": "code",
        "colab": {}
      },
      "source": [
        "# keeping only the first artist id\n",
        "art_artist_ids = art_artist_ids['artist_ids_1']"
      ],
      "execution_count": 0,
      "outputs": []
    },
    {
      "cell_type": "code",
      "metadata": {
        "id": "Vp_HGo7c6PEB",
        "colab_type": "code",
        "colab": {}
      },
      "source": [
        "# separating the artist_titles column\n",
        "f = lambda x: 'artist_titles_{}'.format(x + 1)\n",
        "art_artist_titles = pd.DataFrame(aic_artworks_df.artist_titles.values.tolist(), aic_artworks_df.index, dtype=object\n",
        "                                 ).fillna('').rename(columns=f)"
      ],
      "execution_count": 0,
      "outputs": []
    },
    {
      "cell_type": "code",
      "metadata": {
        "id": "3j-cVWgN6bwy",
        "colab_type": "code",
        "colab": {}
      },
      "source": [
        "# keeping only the first artist title\n",
        "art_artist_titles = art_artist_titles['artist_titles_1']"
      ],
      "execution_count": 0,
      "outputs": []
    },
    {
      "cell_type": "code",
      "metadata": {
        "id": "sPFaf43x7HLL",
        "colab_type": "code",
        "colab": {}
      },
      "source": [
        "# class_ids will be important for filtering the art i want to use (i.e. no sculpture), so I will keep all of the columns\n",
        "f = lambda x: 'class_ids_{}'.format(x + 1)\n",
        "art_class_ids = pd.DataFrame(aic_artworks_df.classification_ids.values.tolist(), aic_artworks_df.index, dtype=object\n",
        "                             ).fillna('').rename(columns=f)"
      ],
      "execution_count": 0,
      "outputs": []
    },
    {
      "cell_type": "code",
      "metadata": {
        "id": "hATmqV58_h73",
        "colab_type": "code",
        "colab": {
          "base_uri": "https://localhost:8080/",
          "height": 204
        },
        "outputId": "baefc514-bd14-4ebd-d889-cd63f1abd1f9"
      },
      "source": [
        "art_class_ids.head(5)"
      ],
      "execution_count": 94,
      "outputs": [
        {
          "output_type": "execute_result",
          "data": {
            "text/html": [
              "<div>\n",
              "<style scoped>\n",
              "    .dataframe tbody tr th:only-of-type {\n",
              "        vertical-align: middle;\n",
              "    }\n",
              "\n",
              "    .dataframe tbody tr th {\n",
              "        vertical-align: top;\n",
              "    }\n",
              "\n",
              "    .dataframe thead th {\n",
              "        text-align: right;\n",
              "    }\n",
              "</style>\n",
              "<table border=\"1\" class=\"dataframe\">\n",
              "  <thead>\n",
              "    <tr style=\"text-align: right;\">\n",
              "      <th></th>\n",
              "      <th>class_ids_1</th>\n",
              "      <th>class_ids_2</th>\n",
              "      <th>class_ids_3</th>\n",
              "      <th>class_ids_4</th>\n",
              "      <th>class_ids_5</th>\n",
              "      <th>class_ids_6</th>\n",
              "      <th>class_ids_7</th>\n",
              "      <th>class_ids_8</th>\n",
              "      <th>class_ids_9</th>\n",
              "    </tr>\n",
              "  </thead>\n",
              "  <tbody>\n",
              "    <tr>\n",
              "      <th>0</th>\n",
              "      <td>TM-17</td>\n",
              "      <td>TM-4</td>\n",
              "      <td>TM-18</td>\n",
              "      <td></td>\n",
              "      <td></td>\n",
              "      <td></td>\n",
              "      <td></td>\n",
              "      <td></td>\n",
              "      <td></td>\n",
              "    </tr>\n",
              "    <tr>\n",
              "      <th>1</th>\n",
              "      <td>TM-17</td>\n",
              "      <td>TM-4</td>\n",
              "      <td>TM-18</td>\n",
              "      <td></td>\n",
              "      <td></td>\n",
              "      <td></td>\n",
              "      <td></td>\n",
              "      <td></td>\n",
              "      <td></td>\n",
              "    </tr>\n",
              "    <tr>\n",
              "      <th>2</th>\n",
              "      <td>TM-17</td>\n",
              "      <td>TM-4</td>\n",
              "      <td>TM-18</td>\n",
              "      <td></td>\n",
              "      <td></td>\n",
              "      <td></td>\n",
              "      <td></td>\n",
              "      <td></td>\n",
              "      <td></td>\n",
              "    </tr>\n",
              "    <tr>\n",
              "      <th>3</th>\n",
              "      <td>TM-17</td>\n",
              "      <td>TM-4</td>\n",
              "      <td>TM-18</td>\n",
              "      <td></td>\n",
              "      <td></td>\n",
              "      <td></td>\n",
              "      <td></td>\n",
              "      <td></td>\n",
              "      <td></td>\n",
              "    </tr>\n",
              "    <tr>\n",
              "      <th>4</th>\n",
              "      <td>TM-1392</td>\n",
              "      <td>TM-1414</td>\n",
              "      <td>TM-81</td>\n",
              "      <td></td>\n",
              "      <td></td>\n",
              "      <td></td>\n",
              "      <td></td>\n",
              "      <td></td>\n",
              "      <td></td>\n",
              "    </tr>\n",
              "  </tbody>\n",
              "</table>\n",
              "</div>"
            ],
            "text/plain": [
              "  class_ids_1 class_ids_2 class_ids_3  ... class_ids_7 class_ids_8 class_ids_9\n",
              "0       TM-17        TM-4       TM-18  ...                                    \n",
              "1       TM-17        TM-4       TM-18  ...                                    \n",
              "2       TM-17        TM-4       TM-18  ...                                    \n",
              "3       TM-17        TM-4       TM-18  ...                                    \n",
              "4     TM-1392     TM-1414       TM-81  ...                                    \n",
              "\n",
              "[5 rows x 9 columns]"
            ]
          },
          "metadata": {
            "tags": []
          },
          "execution_count": 94
        }
      ]
    },
    {
      "cell_type": "code",
      "metadata": {
        "id": "BMKHde53_tH9",
        "colab_type": "code",
        "colab": {}
      },
      "source": [
        "# separating the class_titles columns columns\n",
        "f = lambda x: 'class_titles_{}'.format(x + 1)\n",
        "art_class_titles = pd.DataFrame(\n",
        "    aic_artworks_df.classification_titles.values.tolist(),\n",
        "    aic_artworks_df.index, dtype=object\n",
        ").fillna('').rename(columns=f)"
      ],
      "execution_count": 0,
      "outputs": []
    },
    {
      "cell_type": "code",
      "metadata": {
        "id": "vW5iFUuq_3Wp",
        "colab_type": "code",
        "colab": {
          "base_uri": "https://localhost:8080/",
          "height": 292
        },
        "outputId": "661eebf2-70e8-4dc4-e128-162aa0a6c388"
      },
      "source": [
        "art_class_titles.head(5)"
      ],
      "execution_count": 96,
      "outputs": [
        {
          "output_type": "execute_result",
          "data": {
            "text/html": [
              "<div>\n",
              "<style scoped>\n",
              "    .dataframe tbody tr th:only-of-type {\n",
              "        vertical-align: middle;\n",
              "    }\n",
              "\n",
              "    .dataframe tbody tr th {\n",
              "        vertical-align: top;\n",
              "    }\n",
              "\n",
              "    .dataframe thead th {\n",
              "        text-align: right;\n",
              "    }\n",
              "</style>\n",
              "<table border=\"1\" class=\"dataframe\">\n",
              "  <thead>\n",
              "    <tr style=\"text-align: right;\">\n",
              "      <th></th>\n",
              "      <th>class_titles_1</th>\n",
              "      <th>class_titles_2</th>\n",
              "      <th>class_titles_3</th>\n",
              "      <th>class_titles_4</th>\n",
              "      <th>class_titles_5</th>\n",
              "      <th>class_titles_6</th>\n",
              "      <th>class_titles_7</th>\n",
              "      <th>class_titles_8</th>\n",
              "      <th>class_titles_9</th>\n",
              "    </tr>\n",
              "  </thead>\n",
              "  <tbody>\n",
              "    <tr>\n",
              "      <th>0</th>\n",
              "      <td>print</td>\n",
              "      <td>prints and drawing</td>\n",
              "      <td>etching</td>\n",
              "      <td></td>\n",
              "      <td></td>\n",
              "      <td></td>\n",
              "      <td></td>\n",
              "      <td></td>\n",
              "      <td></td>\n",
              "    </tr>\n",
              "    <tr>\n",
              "      <th>1</th>\n",
              "      <td>print</td>\n",
              "      <td>prints and drawing</td>\n",
              "      <td>etching</td>\n",
              "      <td></td>\n",
              "      <td></td>\n",
              "      <td></td>\n",
              "      <td></td>\n",
              "      <td></td>\n",
              "      <td></td>\n",
              "    </tr>\n",
              "    <tr>\n",
              "      <th>2</th>\n",
              "      <td>print</td>\n",
              "      <td>prints and drawing</td>\n",
              "      <td>etching</td>\n",
              "      <td></td>\n",
              "      <td></td>\n",
              "      <td></td>\n",
              "      <td></td>\n",
              "      <td></td>\n",
              "      <td></td>\n",
              "    </tr>\n",
              "    <tr>\n",
              "      <th>3</th>\n",
              "      <td>print</td>\n",
              "      <td>prints and drawing</td>\n",
              "      <td>etching</td>\n",
              "      <td></td>\n",
              "      <td></td>\n",
              "      <td></td>\n",
              "      <td></td>\n",
              "      <td></td>\n",
              "      <td></td>\n",
              "    </tr>\n",
              "    <tr>\n",
              "      <th>4</th>\n",
              "      <td>ancient art</td>\n",
              "      <td>scarab</td>\n",
              "      <td>costume</td>\n",
              "      <td></td>\n",
              "      <td></td>\n",
              "      <td></td>\n",
              "      <td></td>\n",
              "      <td></td>\n",
              "      <td></td>\n",
              "    </tr>\n",
              "  </tbody>\n",
              "</table>\n",
              "</div>"
            ],
            "text/plain": [
              "  class_titles_1      class_titles_2  ... class_titles_8 class_titles_9\n",
              "0          print  prints and drawing  ...                              \n",
              "1          print  prints and drawing  ...                              \n",
              "2          print  prints and drawing  ...                              \n",
              "3          print  prints and drawing  ...                              \n",
              "4    ancient art              scarab  ...                              \n",
              "\n",
              "[5 rows x 9 columns]"
            ]
          },
          "metadata": {
            "tags": []
          },
          "execution_count": 96
        }
      ]
    },
    {
      "cell_type": "code",
      "metadata": {
        "id": "HcpcmfDAAgyk",
        "colab_type": "code",
        "colab": {}
      },
      "source": [
        "# concatenating all of the new columns into the original dataframe\n",
        "aic_artworks_df.drop(['artist_ids', 'artist_titles', 'classification_ids', 'classification_titles'], axis=1, inplace=True)\n",
        "newframes2 = [aic_artworks_df, art_artist_ids, art_artist_titles, art_class_ids, art_class_titles]\n",
        "aic_artworks_final_df = pd.concat(newframes2, axis=1)"
      ],
      "execution_count": 0,
      "outputs": []
    },
    {
      "cell_type": "code",
      "metadata": {
        "id": "sJ7FmRbcBjeD",
        "colab_type": "code",
        "colab": {
          "base_uri": "https://localhost:8080/",
          "height": 292
        },
        "outputId": "28db464c-e3cf-491f-b785-2ca5eb08346f"
      },
      "source": [
        "aic_artworks_final_df.head()"
      ],
      "execution_count": 98,
      "outputs": [
        {
          "output_type": "execute_result",
          "data": {
            "text/html": [
              "<div>\n",
              "<style scoped>\n",
              "    .dataframe tbody tr th:only-of-type {\n",
              "        vertical-align: middle;\n",
              "    }\n",
              "\n",
              "    .dataframe tbody tr th {\n",
              "        vertical-align: top;\n",
              "    }\n",
              "\n",
              "    .dataframe thead th {\n",
              "        text-align: right;\n",
              "    }\n",
              "</style>\n",
              "<table border=\"1\" class=\"dataframe\">\n",
              "  <thead>\n",
              "    <tr style=\"text-align: right;\">\n",
              "      <th></th>\n",
              "      <th>id</th>\n",
              "      <th>artist_ids_1</th>\n",
              "      <th>artist_titles_1</th>\n",
              "      <th>class_ids_1</th>\n",
              "      <th>class_ids_2</th>\n",
              "      <th>class_ids_3</th>\n",
              "      <th>class_ids_4</th>\n",
              "      <th>class_ids_5</th>\n",
              "      <th>class_ids_6</th>\n",
              "      <th>class_ids_7</th>\n",
              "      <th>class_ids_8</th>\n",
              "      <th>class_ids_9</th>\n",
              "      <th>class_titles_1</th>\n",
              "      <th>class_titles_2</th>\n",
              "      <th>class_titles_3</th>\n",
              "      <th>class_titles_4</th>\n",
              "      <th>class_titles_5</th>\n",
              "      <th>class_titles_6</th>\n",
              "      <th>class_titles_7</th>\n",
              "      <th>class_titles_8</th>\n",
              "      <th>class_titles_9</th>\n",
              "    </tr>\n",
              "  </thead>\n",
              "  <tbody>\n",
              "    <tr>\n",
              "      <th>0</th>\n",
              "      <td>56060</td>\n",
              "      <td>36041</td>\n",
              "      <td>Bror Julius Olsson Nordfeldt</td>\n",
              "      <td>TM-17</td>\n",
              "      <td>TM-4</td>\n",
              "      <td>TM-18</td>\n",
              "      <td></td>\n",
              "      <td></td>\n",
              "      <td></td>\n",
              "      <td></td>\n",
              "      <td></td>\n",
              "      <td></td>\n",
              "      <td>print</td>\n",
              "      <td>prints and drawing</td>\n",
              "      <td>etching</td>\n",
              "      <td></td>\n",
              "      <td></td>\n",
              "      <td></td>\n",
              "      <td></td>\n",
              "      <td></td>\n",
              "      <td></td>\n",
              "    </tr>\n",
              "    <tr>\n",
              "      <th>1</th>\n",
              "      <td>29098</td>\n",
              "      <td>36041</td>\n",
              "      <td>Bror Julius Olsson Nordfeldt</td>\n",
              "      <td>TM-17</td>\n",
              "      <td>TM-4</td>\n",
              "      <td>TM-18</td>\n",
              "      <td></td>\n",
              "      <td></td>\n",
              "      <td></td>\n",
              "      <td></td>\n",
              "      <td></td>\n",
              "      <td></td>\n",
              "      <td>print</td>\n",
              "      <td>prints and drawing</td>\n",
              "      <td>etching</td>\n",
              "      <td></td>\n",
              "      <td></td>\n",
              "      <td></td>\n",
              "      <td></td>\n",
              "      <td></td>\n",
              "      <td></td>\n",
              "    </tr>\n",
              "    <tr>\n",
              "      <th>2</th>\n",
              "      <td>47592</td>\n",
              "      <td>36041</td>\n",
              "      <td>Bror Julius Olsson Nordfeldt</td>\n",
              "      <td>TM-17</td>\n",
              "      <td>TM-4</td>\n",
              "      <td>TM-18</td>\n",
              "      <td></td>\n",
              "      <td></td>\n",
              "      <td></td>\n",
              "      <td></td>\n",
              "      <td></td>\n",
              "      <td></td>\n",
              "      <td>print</td>\n",
              "      <td>prints and drawing</td>\n",
              "      <td>etching</td>\n",
              "      <td></td>\n",
              "      <td></td>\n",
              "      <td></td>\n",
              "      <td></td>\n",
              "      <td></td>\n",
              "      <td></td>\n",
              "    </tr>\n",
              "    <tr>\n",
              "      <th>3</th>\n",
              "      <td>47440</td>\n",
              "      <td>36041</td>\n",
              "      <td>Bror Julius Olsson Nordfeldt</td>\n",
              "      <td>TM-17</td>\n",
              "      <td>TM-4</td>\n",
              "      <td>TM-18</td>\n",
              "      <td></td>\n",
              "      <td></td>\n",
              "      <td></td>\n",
              "      <td></td>\n",
              "      <td></td>\n",
              "      <td></td>\n",
              "      <td>print</td>\n",
              "      <td>prints and drawing</td>\n",
              "      <td>etching</td>\n",
              "      <td></td>\n",
              "      <td></td>\n",
              "      <td></td>\n",
              "      <td></td>\n",
              "      <td></td>\n",
              "      <td></td>\n",
              "    </tr>\n",
              "    <tr>\n",
              "      <th>4</th>\n",
              "      <td>134340</td>\n",
              "      <td>37541</td>\n",
              "      <td>Ancient Egyptian</td>\n",
              "      <td>TM-1392</td>\n",
              "      <td>TM-1414</td>\n",
              "      <td>TM-81</td>\n",
              "      <td></td>\n",
              "      <td></td>\n",
              "      <td></td>\n",
              "      <td></td>\n",
              "      <td></td>\n",
              "      <td></td>\n",
              "      <td>ancient art</td>\n",
              "      <td>scarab</td>\n",
              "      <td>costume</td>\n",
              "      <td></td>\n",
              "      <td></td>\n",
              "      <td></td>\n",
              "      <td></td>\n",
              "      <td></td>\n",
              "      <td></td>\n",
              "    </tr>\n",
              "  </tbody>\n",
              "</table>\n",
              "</div>"
            ],
            "text/plain": [
              "       id artist_ids_1  ... class_titles_8 class_titles_9\n",
              "0   56060        36041  ...                              \n",
              "1   29098        36041  ...                              \n",
              "2   47592        36041  ...                              \n",
              "3   47440        36041  ...                              \n",
              "4  134340        37541  ...                              \n",
              "\n",
              "[5 rows x 21 columns]"
            ]
          },
          "metadata": {
            "tags": []
          },
          "execution_count": 98
        }
      ]
    },
    {
      "cell_type": "code",
      "metadata": {
        "id": "1McA1IcWBzlT",
        "colab_type": "code",
        "colab": {}
      },
      "source": [
        "# saving to csv\n",
        "aic_artworks_final_df.to_csv('artworks_endpoint.csv')"
      ],
      "execution_count": 0,
      "outputs": []
    },
    {
      "cell_type": "markdown",
      "metadata": {
        "id": "OuOTE1OwY-WP",
        "colab_type": "text"
      },
      "source": [
        "# Filtering Art\n",
        "Now that I have the information I need from both endpoints, I need to merge them on the artwork id, and filter the types of art I want to use for this project. "
      ]
    },
    {
      "cell_type": "code",
      "metadata": {
        "id": "epEzoNocDXKM",
        "colab_type": "code",
        "colab": {
          "base_uri": "https://localhost:8080/",
          "height": 72
        },
        "outputId": "74743d0a-17b6-4e39-bf91-425f31ef53d3"
      },
      "source": [
        "# importing csv\n",
        "import pandas as pd\n",
        "image_df = pd.read_csv('drive/My Drive/Colab Notebooks/images_endpoint.csv')\n",
        "artworks_df = pd.read_csv('drive/My Drive/Colab Notebooks/artworks_endpoint.csv')"
      ],
      "execution_count": 1,
      "outputs": [
        {
          "output_type": "stream",
          "text": [
            "/usr/local/lib/python3.6/dist-packages/IPython/core/interactiveshell.py:2718: DtypeWarning: Columns (12,21) have mixed types.Specify dtype option on import or set low_memory=False.\n",
            "  interactivity=interactivity, compiler=compiler, result=result)\n"
          ],
          "name": "stderr"
        }
      ]
    },
    {
      "cell_type": "code",
      "metadata": {
        "id": "rO5Vir70FU32",
        "colab_type": "code",
        "colab": {}
      },
      "source": [
        "# the artwork id data imported as a float, so i need to convert them to an integer\n",
        "image_df['artwork_ids_1'] = image_df['artwork_ids_1'].fillna(0).astype(int)"
      ],
      "execution_count": 0,
      "outputs": []
    },
    {
      "cell_type": "code",
      "metadata": {
        "id": "ez7wNy-_PG7f",
        "colab_type": "code",
        "colab": {}
      },
      "source": [
        "# I accidentally included the index when I saved the .csv, so I need to drop it\n",
        "image_df.drop('Unnamed: 0', inplace=True, axis=1)"
      ],
      "execution_count": 0,
      "outputs": []
    },
    {
      "cell_type": "code",
      "metadata": {
        "id": "8puBV4e6VBAA",
        "colab_type": "code",
        "colab": {
          "base_uri": "https://localhost:8080/",
          "height": 204
        },
        "outputId": "2cda2c8c-0ea0-4a7d-d107-a395b0bf4d56"
      },
      "source": [
        "image_df.head()"
      ],
      "execution_count": 4,
      "outputs": [
        {
          "output_type": "execute_result",
          "data": {
            "text/html": [
              "<div>\n",
              "<style scoped>\n",
              "    .dataframe tbody tr th:only-of-type {\n",
              "        vertical-align: middle;\n",
              "    }\n",
              "\n",
              "    .dataframe tbody tr th {\n",
              "        vertical-align: top;\n",
              "    }\n",
              "\n",
              "    .dataframe thead th {\n",
              "        text-align: right;\n",
              "    }\n",
              "</style>\n",
              "<table border=\"1\" class=\"dataframe\">\n",
              "  <thead>\n",
              "    <tr style=\"text-align: right;\">\n",
              "      <th></th>\n",
              "      <th>id</th>\n",
              "      <th>iiif_url</th>\n",
              "      <th>artwork_ids_1</th>\n",
              "      <th>artwork_titles_1</th>\n",
              "    </tr>\n",
              "  </thead>\n",
              "  <tbody>\n",
              "    <tr>\n",
              "      <th>0</th>\n",
              "      <td>ece84e75-d26f-eb5f-e641-ef4946ee3a1e</td>\n",
              "      <td>https://www.artic.edu/iiif/2/ece84e75-d26f-eb5...</td>\n",
              "      <td>115407</td>\n",
              "      <td>Mill (recto); Tree (verso)</td>\n",
              "    </tr>\n",
              "    <tr>\n",
              "      <th>1</th>\n",
              "      <td>c14a072b-be3c-1d94-030c-1eee4cbd5e11</td>\n",
              "      <td>https://www.artic.edu/iiif/2/c14a072b-be3c-1d9...</td>\n",
              "      <td>112708</td>\n",
              "      <td>Raising of Lazarus (recto); Travelers with Car...</td>\n",
              "    </tr>\n",
              "    <tr>\n",
              "      <th>2</th>\n",
              "      <td>bef42115-82f7-e406-439d-98f4ab21817c</td>\n",
              "      <td>https://www.artic.edu/iiif/2/bef42115-82f7-e40...</td>\n",
              "      <td>93805</td>\n",
              "      <td>I Walk To and Fro through Civilization and I T...</td>\n",
              "    </tr>\n",
              "    <tr>\n",
              "      <th>3</th>\n",
              "      <td>7420ca52-33c8-6a71-d0db-0f5d180251c4</td>\n",
              "      <td>https://www.artic.edu/iiif/2/7420ca52-33c8-6a7...</td>\n",
              "      <td>112708</td>\n",
              "      <td>Raising of Lazarus (recto); Travelers with Car...</td>\n",
              "    </tr>\n",
              "    <tr>\n",
              "      <th>4</th>\n",
              "      <td>4a3519e1-6cd1-9b18-a3ac-4b2e2a91c622</td>\n",
              "      <td>https://www.artic.edu/iiif/2/4a3519e1-6cd1-9b1...</td>\n",
              "      <td>41159</td>\n",
              "      <td>The Crucifixion with the Virgin and St. John (...</td>\n",
              "    </tr>\n",
              "  </tbody>\n",
              "</table>\n",
              "</div>"
            ],
            "text/plain": [
              "                                     id  ...                                   artwork_titles_1\n",
              "0  ece84e75-d26f-eb5f-e641-ef4946ee3a1e  ...                         Mill (recto); Tree (verso)\n",
              "1  c14a072b-be3c-1d94-030c-1eee4cbd5e11  ...  Raising of Lazarus (recto); Travelers with Car...\n",
              "2  bef42115-82f7-e406-439d-98f4ab21817c  ...  I Walk To and Fro through Civilization and I T...\n",
              "3  7420ca52-33c8-6a71-d0db-0f5d180251c4  ...  Raising of Lazarus (recto); Travelers with Car...\n",
              "4  4a3519e1-6cd1-9b18-a3ac-4b2e2a91c622  ...  The Crucifixion with the Virgin and St. John (...\n",
              "\n",
              "[5 rows x 4 columns]"
            ]
          },
          "metadata": {
            "tags": []
          },
          "execution_count": 4
        }
      ]
    },
    {
      "cell_type": "code",
      "metadata": {
        "id": "yxtU02GHI1-m",
        "colab_type": "code",
        "colab": {}
      },
      "source": [
        "# converting artist_ids to integers\n",
        "artworks_df['artist_ids_1'] = artworks_df['artist_ids_1'].fillna(0).astype(int)"
      ],
      "execution_count": 0,
      "outputs": []
    },
    {
      "cell_type": "code",
      "metadata": {
        "id": "Dz4IIdfYPSED",
        "colab_type": "code",
        "colab": {}
      },
      "source": [
        "# dropping the unnecessary index column\n",
        "artworks_df.drop('Unnamed: 0', inplace=True, axis=1)"
      ],
      "execution_count": 0,
      "outputs": []
    },
    {
      "cell_type": "code",
      "metadata": {
        "id": "t_EKoiLJJ-JN",
        "colab_type": "code",
        "colab": {
          "base_uri": "https://localhost:8080/",
          "height": 292
        },
        "outputId": "5187e549-1825-4b9b-c5e7-55f862f7f8d6"
      },
      "source": [
        "artworks_df.head()"
      ],
      "execution_count": 7,
      "outputs": [
        {
          "output_type": "execute_result",
          "data": {
            "text/html": [
              "<div>\n",
              "<style scoped>\n",
              "    .dataframe tbody tr th:only-of-type {\n",
              "        vertical-align: middle;\n",
              "    }\n",
              "\n",
              "    .dataframe tbody tr th {\n",
              "        vertical-align: top;\n",
              "    }\n",
              "\n",
              "    .dataframe thead th {\n",
              "        text-align: right;\n",
              "    }\n",
              "</style>\n",
              "<table border=\"1\" class=\"dataframe\">\n",
              "  <thead>\n",
              "    <tr style=\"text-align: right;\">\n",
              "      <th></th>\n",
              "      <th>id</th>\n",
              "      <th>artist_ids_1</th>\n",
              "      <th>artist_titles_1</th>\n",
              "      <th>class_ids_1</th>\n",
              "      <th>class_ids_2</th>\n",
              "      <th>class_ids_3</th>\n",
              "      <th>class_ids_4</th>\n",
              "      <th>class_ids_5</th>\n",
              "      <th>class_ids_6</th>\n",
              "      <th>class_ids_7</th>\n",
              "      <th>class_ids_8</th>\n",
              "      <th>class_ids_9</th>\n",
              "      <th>class_titles_1</th>\n",
              "      <th>class_titles_2</th>\n",
              "      <th>class_titles_3</th>\n",
              "      <th>class_titles_4</th>\n",
              "      <th>class_titles_5</th>\n",
              "      <th>class_titles_6</th>\n",
              "      <th>class_titles_7</th>\n",
              "      <th>class_titles_8</th>\n",
              "      <th>class_titles_9</th>\n",
              "    </tr>\n",
              "  </thead>\n",
              "  <tbody>\n",
              "    <tr>\n",
              "      <th>0</th>\n",
              "      <td>56060</td>\n",
              "      <td>36041</td>\n",
              "      <td>Bror Julius Olsson Nordfeldt</td>\n",
              "      <td>TM-17</td>\n",
              "      <td>TM-4</td>\n",
              "      <td>TM-18</td>\n",
              "      <td>NaN</td>\n",
              "      <td>NaN</td>\n",
              "      <td>NaN</td>\n",
              "      <td>NaN</td>\n",
              "      <td>NaN</td>\n",
              "      <td>NaN</td>\n",
              "      <td>print</td>\n",
              "      <td>prints and drawing</td>\n",
              "      <td>etching</td>\n",
              "      <td>NaN</td>\n",
              "      <td>NaN</td>\n",
              "      <td>NaN</td>\n",
              "      <td>NaN</td>\n",
              "      <td>NaN</td>\n",
              "      <td>NaN</td>\n",
              "    </tr>\n",
              "    <tr>\n",
              "      <th>1</th>\n",
              "      <td>29098</td>\n",
              "      <td>36041</td>\n",
              "      <td>Bror Julius Olsson Nordfeldt</td>\n",
              "      <td>TM-17</td>\n",
              "      <td>TM-4</td>\n",
              "      <td>TM-18</td>\n",
              "      <td>NaN</td>\n",
              "      <td>NaN</td>\n",
              "      <td>NaN</td>\n",
              "      <td>NaN</td>\n",
              "      <td>NaN</td>\n",
              "      <td>NaN</td>\n",
              "      <td>print</td>\n",
              "      <td>prints and drawing</td>\n",
              "      <td>etching</td>\n",
              "      <td>NaN</td>\n",
              "      <td>NaN</td>\n",
              "      <td>NaN</td>\n",
              "      <td>NaN</td>\n",
              "      <td>NaN</td>\n",
              "      <td>NaN</td>\n",
              "    </tr>\n",
              "    <tr>\n",
              "      <th>2</th>\n",
              "      <td>47592</td>\n",
              "      <td>36041</td>\n",
              "      <td>Bror Julius Olsson Nordfeldt</td>\n",
              "      <td>TM-17</td>\n",
              "      <td>TM-4</td>\n",
              "      <td>TM-18</td>\n",
              "      <td>NaN</td>\n",
              "      <td>NaN</td>\n",
              "      <td>NaN</td>\n",
              "      <td>NaN</td>\n",
              "      <td>NaN</td>\n",
              "      <td>NaN</td>\n",
              "      <td>print</td>\n",
              "      <td>prints and drawing</td>\n",
              "      <td>etching</td>\n",
              "      <td>NaN</td>\n",
              "      <td>NaN</td>\n",
              "      <td>NaN</td>\n",
              "      <td>NaN</td>\n",
              "      <td>NaN</td>\n",
              "      <td>NaN</td>\n",
              "    </tr>\n",
              "    <tr>\n",
              "      <th>3</th>\n",
              "      <td>47440</td>\n",
              "      <td>36041</td>\n",
              "      <td>Bror Julius Olsson Nordfeldt</td>\n",
              "      <td>TM-17</td>\n",
              "      <td>TM-4</td>\n",
              "      <td>TM-18</td>\n",
              "      <td>NaN</td>\n",
              "      <td>NaN</td>\n",
              "      <td>NaN</td>\n",
              "      <td>NaN</td>\n",
              "      <td>NaN</td>\n",
              "      <td>NaN</td>\n",
              "      <td>print</td>\n",
              "      <td>prints and drawing</td>\n",
              "      <td>etching</td>\n",
              "      <td>NaN</td>\n",
              "      <td>NaN</td>\n",
              "      <td>NaN</td>\n",
              "      <td>NaN</td>\n",
              "      <td>NaN</td>\n",
              "      <td>NaN</td>\n",
              "    </tr>\n",
              "    <tr>\n",
              "      <th>4</th>\n",
              "      <td>134340</td>\n",
              "      <td>37541</td>\n",
              "      <td>Ancient Egyptian</td>\n",
              "      <td>TM-1392</td>\n",
              "      <td>TM-1414</td>\n",
              "      <td>TM-81</td>\n",
              "      <td>NaN</td>\n",
              "      <td>NaN</td>\n",
              "      <td>NaN</td>\n",
              "      <td>NaN</td>\n",
              "      <td>NaN</td>\n",
              "      <td>NaN</td>\n",
              "      <td>ancient art</td>\n",
              "      <td>scarab</td>\n",
              "      <td>costume</td>\n",
              "      <td>NaN</td>\n",
              "      <td>NaN</td>\n",
              "      <td>NaN</td>\n",
              "      <td>NaN</td>\n",
              "      <td>NaN</td>\n",
              "      <td>NaN</td>\n",
              "    </tr>\n",
              "  </tbody>\n",
              "</table>\n",
              "</div>"
            ],
            "text/plain": [
              "       id  artist_ids_1  ... class_titles_8 class_titles_9\n",
              "0   56060         36041  ...            NaN            NaN\n",
              "1   29098         36041  ...            NaN            NaN\n",
              "2   47592         36041  ...            NaN            NaN\n",
              "3   47440         36041  ...            NaN            NaN\n",
              "4  134340         37541  ...            NaN            NaN\n",
              "\n",
              "[5 rows x 21 columns]"
            ]
          },
          "metadata": {
            "tags": []
          },
          "execution_count": 7
        }
      ]
    },
    {
      "cell_type": "code",
      "metadata": {
        "id": "ZE431bNZKCUK",
        "colab_type": "code",
        "colab": {}
      },
      "source": [
        "# merging the two endpoint dataframes on the artwork id field\n",
        "full_df = image_df.merge(artworks_df, how='inner', left_on='artwork_ids_1', right_on='id')"
      ],
      "execution_count": 0,
      "outputs": []
    },
    {
      "cell_type": "code",
      "metadata": {
        "id": "PWcXAHCAbBDz",
        "colab_type": "code",
        "colab": {
          "base_uri": "https://localhost:8080/",
          "height": 34
        },
        "outputId": "59c9cb15-d775-43fc-ff3b-752e47e8e60a"
      },
      "source": [
        "# size of the new dataframe \n",
        "full_df.shape"
      ],
      "execution_count": 18,
      "outputs": [
        {
          "output_type": "execute_result",
          "data": {
            "text/plain": [
              "(115731, 25)"
            ]
          },
          "metadata": {
            "tags": []
          },
          "execution_count": 18
        }
      ]
    },
    {
      "cell_type": "markdown",
      "metadata": {
        "id": "8geevUO7ake_",
        "colab_type": "text"
      },
      "source": [
        "Using the API, I at first tried to filter the works by only using the \"painting\" classification ('TM-9'), but that returned only ~3000 works, so I investigated the classification ids more closely and selected the ones that I wanted to include in this project. This includes works in ink, pastel, oil, acrylic, watercolor, and many types of prints."
      ]
    },
    {
      "cell_type": "code",
      "metadata": {
        "id": "S4ed2j-mcPPK",
        "colab_type": "code",
        "colab": {}
      },
      "source": [
        "class_ids_list = ['TM-78', 'TM-10368', 'TM-378', 'TM-10387', 'TM-1203', 'TM-54', 'TM-10424', 'TM-440', 'TM-1083',\n",
        "                  'TM-11420', 'TM-1197', 'TM-10113', 'TM-10234', 'TM-13352', 'TM-258', 'TM-1374', 'TM-13768',\n",
        "                  'TM-1453', 'TM-1648', 'TM-1650', 'TM-17', 'TM-214', 'TM-2172', 'TM-4', 'TM-402', 'TM-418', 'TM-420',\n",
        "                  'TM-308', 'TM-750', 'TM-695', 'TM-636', 'TM-637', 'TM-679', 'TM-604', 'TM-605', 'TM-788', 'TM-799',\n",
        "                  'TM-812', 'TM-824', 'TM-966', 'TM-11962', 'TM-13793', 'TM-1613', 'TM-1651', 'TM-186', 'TM-186',\n",
        "                  'TM-2188', 'TM-2200', 'TM-2211', 'TM-484', 'TM-490', 'TM-387', 'TM-66', 'TM-78', 'TM-80', 'TM-39',\n",
        "                  'TM-10368', 'TM-1398', 'TM-229', 'TM-482', 'TM-148', 'TM-10309', 'TM-1602', 'TM-1627', 'TM-10233',\n",
        "                  'TM-1382', 'TM-1617', 'TM-1625', 'TM-10378', 'TM-1642', 'TM-212', 'TM-296', 'TM-611']"
      ],
      "execution_count": 0,
      "outputs": []
    },
    {
      "cell_type": "code",
      "metadata": {
        "id": "i84KBhIsoloF",
        "colab_type": "code",
        "colab": {}
      },
      "source": [
        "class_ids_exclude_list = ['TM-748', 'TM-470', 'TM-36', 'TM-319', 'TM-449', 'TM-46', 'TM-791', 'TM-10379', 'TM-11306',\n",
        "                          'TM-12091', 'TM-13178', 'TM-13444', 'TM-1375', 'TM-13871', 'TM-1602', 'TM-1604', 'TM-1645',\n",
        "                          'TM-2196', 'TM-240', 'TM-14146', 'TM-695', 'TM-67', 'TM-68', 'TM-612', 'TM-11705', 'TM-126',\n",
        "                          'TM-212', 'TM-2329', 'TM-1271', 'TM-11884', 'TM-12310', 'TM-12316', 'TM-13', 'TM-13007',\n",
        "                          'TM-13012', 'TM-1692', 'TM-1950', 'TM-14', 'TM-423', 'TM-53', 'TM-57', 'TM-56', 'TM-72',\n",
        "                          'TM-11127', 'TM-11131', 'TM-11132', 'TM-11135', 'TM-11136', 'TM-5', 'TM-914', 'TM-920', 'TM-955',\n",
        "                          'TM-11157', 'TM-11927', 'TM-11943', 'TM-11948', 'TM-11949', 'TM-1376', 'TM-1445', 'TM-1668',\n",
        "                          'TM-2336', 'TM-2337', 'TM-2338', 'TM-2339', 'TM-234', 'TM-2340', 'TM-2341', 'TM-2345', 'TM-2375',\n",
        "                          'TM-279', 'TM-4', 'TM-1152']"
      ],
      "execution_count": 0,
      "outputs": []
    },
    {
      "cell_type": "code",
      "metadata": {
        "id": "iCH7tLIyL3yL",
        "colab_type": "code",
        "colab": {}
      },
      "source": [
        "# Filtering the dataframe by category\n",
        "# There is probably a better way of doing this, but since there are nine columns, I needed to check the list against all of them\n",
        "full_df_filter = full_df[(full_df['class_ids_1'].isin(class_ids_list)) |\n",
        "                         (full_df['class_ids_2'].isin(class_ids_list)) |\n",
        "                         (full_df['class_ids_3'].isin(class_ids_list)) |\n",
        "                         (full_df['class_ids_4'].isin(class_ids_list)) |\n",
        "                         (full_df['class_ids_5'].isin(class_ids_list)) |\n",
        "                         (full_df['class_ids_6'].isin(class_ids_list)) |\n",
        "                         (full_df['class_ids_7'].isin(class_ids_list)) |\n",
        "                         (full_df['class_ids_8'].isin(class_ids_list)) |\n",
        "                         (full_df['class_ids_9'].isin(class_ids_list))]"
      ],
      "execution_count": 0,
      "outputs": []
    },
    {
      "cell_type": "code",
      "metadata": {
        "id": "q3np5UJQtpiO",
        "colab_type": "code",
        "colab": {}
      },
      "source": [
        "# Filtering the dataframe to keep images not in the exclude list\n",
        "full_df_filter2 = full_df_filter[(full_df_filter['class_ids_1'].isin(class_ids_exclude_list) == False)]\n",
        "full_df_filter2 = full_df_filter2[(full_df_filter2['class_ids_2'].isin(class_ids_exclude_list) == False)]\n",
        "full_df_filter2 = full_df_filter2[(full_df_filter2['class_ids_3'].isin(class_ids_exclude_list) == False)]\n",
        "full_df_filter2 = full_df_filter2[(full_df_filter2['class_ids_4'].isin(class_ids_exclude_list) == False)]\n",
        "full_df_filter2 = full_df_filter2[(full_df_filter2['class_ids_5'].isin(class_ids_exclude_list) == False)]\n",
        "full_df_filter2 = full_df_filter2[(full_df_filter2['class_ids_6'].isin(class_ids_exclude_list) == False)]\n",
        "full_df_filter2 = full_df_filter2[(full_df_filter2['class_ids_7'].isin(class_ids_exclude_list) == False)]\n",
        "full_df_filter2 = full_df_filter2[(full_df_filter2['class_ids_8'].isin(class_ids_exclude_list) == False)]\n",
        "full_df_filter2 = full_df_filter2[(full_df_filter2['class_ids_9'].isin(class_ids_exclude_list) == False)]"
      ],
      "execution_count": 0,
      "outputs": []
    },
    {
      "cell_type": "code",
      "metadata": {
        "id": "eHOuc-bvOyyH",
        "colab_type": "code",
        "colab": {
          "base_uri": "https://localhost:8080/",
          "height": 34
        },
        "outputId": "913ff3df-3ccc-4d6f-8ee6-8f82648f852a"
      },
      "source": [
        "# Now there are 61k images to use for the project\n",
        "full_df_filter2.shape"
      ],
      "execution_count": 79,
      "outputs": [
        {
          "output_type": "execute_result",
          "data": {
            "text/plain": [
              "(14654, 25)"
            ]
          },
          "metadata": {
            "tags": []
          },
          "execution_count": 79
        }
      ]
    },
    {
      "cell_type": "code",
      "metadata": {
        "id": "VZOkD8N4RZxR",
        "colab_type": "code",
        "colab": {
          "base_uri": "https://localhost:8080/",
          "height": 479
        },
        "outputId": "bbc88a50-2630-415b-e667-a2b0f383a8df"
      },
      "source": [
        "full_df_filter2.head()"
      ],
      "execution_count": 80,
      "outputs": [
        {
          "output_type": "execute_result",
          "data": {
            "text/html": [
              "<div>\n",
              "<style scoped>\n",
              "    .dataframe tbody tr th:only-of-type {\n",
              "        vertical-align: middle;\n",
              "    }\n",
              "\n",
              "    .dataframe tbody tr th {\n",
              "        vertical-align: top;\n",
              "    }\n",
              "\n",
              "    .dataframe thead th {\n",
              "        text-align: right;\n",
              "    }\n",
              "</style>\n",
              "<table border=\"1\" class=\"dataframe\">\n",
              "  <thead>\n",
              "    <tr style=\"text-align: right;\">\n",
              "      <th></th>\n",
              "      <th>id_x</th>\n",
              "      <th>iiif_url</th>\n",
              "      <th>artwork_ids_1</th>\n",
              "      <th>artwork_titles_1</th>\n",
              "      <th>id_y</th>\n",
              "      <th>artist_ids_1</th>\n",
              "      <th>artist_titles_1</th>\n",
              "      <th>class_ids_1</th>\n",
              "      <th>class_ids_2</th>\n",
              "      <th>class_ids_3</th>\n",
              "      <th>class_ids_4</th>\n",
              "      <th>class_ids_5</th>\n",
              "      <th>class_ids_6</th>\n",
              "      <th>class_ids_7</th>\n",
              "      <th>class_ids_8</th>\n",
              "      <th>class_ids_9</th>\n",
              "      <th>class_titles_1</th>\n",
              "      <th>class_titles_2</th>\n",
              "      <th>class_titles_3</th>\n",
              "      <th>class_titles_4</th>\n",
              "      <th>class_titles_5</th>\n",
              "      <th>class_titles_6</th>\n",
              "      <th>class_titles_7</th>\n",
              "      <th>class_titles_8</th>\n",
              "      <th>class_titles_9</th>\n",
              "    </tr>\n",
              "  </thead>\n",
              "  <tbody>\n",
              "    <tr>\n",
              "      <th>249</th>\n",
              "      <td>0cbb30ee-ca48-6a5b-8333-2ec8c3b442c9</td>\n",
              "      <td>https://www.artic.edu/iiif/2/0cbb30ee-ca48-6a5...</td>\n",
              "      <td>192692</td>\n",
              "      <td>Vignette #2</td>\n",
              "      <td>192692</td>\n",
              "      <td>47905</td>\n",
              "      <td>Kerry James Marshall</td>\n",
              "      <td>TM-10368</td>\n",
              "      <td>TM-9</td>\n",
              "      <td>NaN</td>\n",
              "      <td>NaN</td>\n",
              "      <td>NaN</td>\n",
              "      <td>NaN</td>\n",
              "      <td>NaN</td>\n",
              "      <td>NaN</td>\n",
              "      <td>NaN</td>\n",
              "      <td>acrylic paintings (visual works)</td>\n",
              "      <td>painting</td>\n",
              "      <td>NaN</td>\n",
              "      <td>NaN</td>\n",
              "      <td>NaN</td>\n",
              "      <td>NaN</td>\n",
              "      <td>NaN</td>\n",
              "      <td>NaN</td>\n",
              "      <td>NaN</td>\n",
              "    </tr>\n",
              "    <tr>\n",
              "      <th>250</th>\n",
              "      <td>6f136298-d85d-b10f-2543-b5673fb37b0e</td>\n",
              "      <td>https://www.artic.edu/iiif/2/6f136298-d85d-b10...</td>\n",
              "      <td>192692</td>\n",
              "      <td>Vignette #2</td>\n",
              "      <td>192692</td>\n",
              "      <td>47905</td>\n",
              "      <td>Kerry James Marshall</td>\n",
              "      <td>TM-10368</td>\n",
              "      <td>TM-9</td>\n",
              "      <td>NaN</td>\n",
              "      <td>NaN</td>\n",
              "      <td>NaN</td>\n",
              "      <td>NaN</td>\n",
              "      <td>NaN</td>\n",
              "      <td>NaN</td>\n",
              "      <td>NaN</td>\n",
              "      <td>acrylic paintings (visual works)</td>\n",
              "      <td>painting</td>\n",
              "      <td>NaN</td>\n",
              "      <td>NaN</td>\n",
              "      <td>NaN</td>\n",
              "      <td>NaN</td>\n",
              "      <td>NaN</td>\n",
              "      <td>NaN</td>\n",
              "      <td>NaN</td>\n",
              "    </tr>\n",
              "    <tr>\n",
              "      <th>268</th>\n",
              "      <td>453b14c1-209a-dca9-b5f4-fdcfef8194fe</td>\n",
              "      <td>https://www.artic.edu/iiif/2/453b14c1-209a-dca...</td>\n",
              "      <td>255335</td>\n",
              "      <td>End World Music</td>\n",
              "      <td>255335</td>\n",
              "      <td>114612</td>\n",
              "      <td>Carol Jackson</td>\n",
              "      <td>TM-1197</td>\n",
              "      <td>TM-701</td>\n",
              "      <td>NaN</td>\n",
              "      <td>NaN</td>\n",
              "      <td>NaN</td>\n",
              "      <td>NaN</td>\n",
              "      <td>NaN</td>\n",
              "      <td>NaN</td>\n",
              "      <td>NaN</td>\n",
              "      <td>digital print</td>\n",
              "      <td>leather</td>\n",
              "      <td>NaN</td>\n",
              "      <td>NaN</td>\n",
              "      <td>NaN</td>\n",
              "      <td>NaN</td>\n",
              "      <td>NaN</td>\n",
              "      <td>NaN</td>\n",
              "      <td>NaN</td>\n",
              "    </tr>\n",
              "    <tr>\n",
              "      <th>383</th>\n",
              "      <td>01b56179-17ff-7e02-baec-46ee69ec2e44</td>\n",
              "      <td>https://www.artic.edu/iiif/2/01b56179-17ff-7e0...</td>\n",
              "      <td>77443</td>\n",
              "      <td>Reflective Love, from the series \"Anthology of...</td>\n",
              "      <td>77443</td>\n",
              "      <td>37074</td>\n",
              "      <td>Kitagawa Utamaro</td>\n",
              "      <td>TM-402</td>\n",
              "      <td>TM-17</td>\n",
              "      <td>TM-26</td>\n",
              "      <td>NaN</td>\n",
              "      <td>NaN</td>\n",
              "      <td>NaN</td>\n",
              "      <td>NaN</td>\n",
              "      <td>NaN</td>\n",
              "      <td>NaN</td>\n",
              "      <td>woodblock print</td>\n",
              "      <td>print</td>\n",
              "      <td>asian art</td>\n",
              "      <td>NaN</td>\n",
              "      <td>NaN</td>\n",
              "      <td>NaN</td>\n",
              "      <td>NaN</td>\n",
              "      <td>NaN</td>\n",
              "      <td>NaN</td>\n",
              "    </tr>\n",
              "    <tr>\n",
              "      <th>384</th>\n",
              "      <td>6eb8c70d-217a-a757-05ee-ea393fdc5ec5</td>\n",
              "      <td>https://www.artic.edu/iiif/2/6eb8c70d-217a-a75...</td>\n",
              "      <td>77443</td>\n",
              "      <td>Reflective Love, from the series \"Anthology of...</td>\n",
              "      <td>77443</td>\n",
              "      <td>37074</td>\n",
              "      <td>Kitagawa Utamaro</td>\n",
              "      <td>TM-402</td>\n",
              "      <td>TM-17</td>\n",
              "      <td>TM-26</td>\n",
              "      <td>NaN</td>\n",
              "      <td>NaN</td>\n",
              "      <td>NaN</td>\n",
              "      <td>NaN</td>\n",
              "      <td>NaN</td>\n",
              "      <td>NaN</td>\n",
              "      <td>woodblock print</td>\n",
              "      <td>print</td>\n",
              "      <td>asian art</td>\n",
              "      <td>NaN</td>\n",
              "      <td>NaN</td>\n",
              "      <td>NaN</td>\n",
              "      <td>NaN</td>\n",
              "      <td>NaN</td>\n",
              "      <td>NaN</td>\n",
              "    </tr>\n",
              "  </tbody>\n",
              "</table>\n",
              "</div>"
            ],
            "text/plain": [
              "                                     id_x  ... class_titles_9\n",
              "249  0cbb30ee-ca48-6a5b-8333-2ec8c3b442c9  ...            NaN\n",
              "250  6f136298-d85d-b10f-2543-b5673fb37b0e  ...            NaN\n",
              "268  453b14c1-209a-dca9-b5f4-fdcfef8194fe  ...            NaN\n",
              "383  01b56179-17ff-7e02-baec-46ee69ec2e44  ...            NaN\n",
              "384  6eb8c70d-217a-a757-05ee-ea393fdc5ec5  ...            NaN\n",
              "\n",
              "[5 rows x 25 columns]"
            ]
          },
          "metadata": {
            "tags": []
          },
          "execution_count": 80
        }
      ]
    },
    {
      "cell_type": "code",
      "metadata": {
        "id": "Asc3MQkxbxyi",
        "colab_type": "code",
        "colab": {}
      },
      "source": [
        "# dropping and renaming columns to be a little cleaner\n",
        "full_df_filter2 = full_df_filter2.drop('id_y', axis=1)\n",
        "cols={'id_x': 'url_id', 'artwork_ids_1': 'artwork_id', 'artwork_titles_1': 'artwork_title', 'artist_ids_1':'artist_id',\n",
        "      'artist_titles_1': 'artist'}\n",
        "full_df_filter2 = full_df_filter2.rename(columns=cols)"
      ],
      "execution_count": 0,
      "outputs": []
    },
    {
      "cell_type": "code",
      "metadata": {
        "id": "m5WxV6r5dgeo",
        "colab_type": "code",
        "colab": {
          "base_uri": "https://localhost:8080/",
          "height": 479
        },
        "outputId": "0a937cf2-57af-4964-c9e3-976f1e83f814"
      },
      "source": [
        "full_df_filter2.head()"
      ],
      "execution_count": 82,
      "outputs": [
        {
          "output_type": "execute_result",
          "data": {
            "text/html": [
              "<div>\n",
              "<style scoped>\n",
              "    .dataframe tbody tr th:only-of-type {\n",
              "        vertical-align: middle;\n",
              "    }\n",
              "\n",
              "    .dataframe tbody tr th {\n",
              "        vertical-align: top;\n",
              "    }\n",
              "\n",
              "    .dataframe thead th {\n",
              "        text-align: right;\n",
              "    }\n",
              "</style>\n",
              "<table border=\"1\" class=\"dataframe\">\n",
              "  <thead>\n",
              "    <tr style=\"text-align: right;\">\n",
              "      <th></th>\n",
              "      <th>url_id</th>\n",
              "      <th>iiif_url</th>\n",
              "      <th>artwork_id</th>\n",
              "      <th>artwork_title</th>\n",
              "      <th>artist_id</th>\n",
              "      <th>artist</th>\n",
              "      <th>class_ids_1</th>\n",
              "      <th>class_ids_2</th>\n",
              "      <th>class_ids_3</th>\n",
              "      <th>class_ids_4</th>\n",
              "      <th>class_ids_5</th>\n",
              "      <th>class_ids_6</th>\n",
              "      <th>class_ids_7</th>\n",
              "      <th>class_ids_8</th>\n",
              "      <th>class_ids_9</th>\n",
              "      <th>class_titles_1</th>\n",
              "      <th>class_titles_2</th>\n",
              "      <th>class_titles_3</th>\n",
              "      <th>class_titles_4</th>\n",
              "      <th>class_titles_5</th>\n",
              "      <th>class_titles_6</th>\n",
              "      <th>class_titles_7</th>\n",
              "      <th>class_titles_8</th>\n",
              "      <th>class_titles_9</th>\n",
              "    </tr>\n",
              "  </thead>\n",
              "  <tbody>\n",
              "    <tr>\n",
              "      <th>249</th>\n",
              "      <td>0cbb30ee-ca48-6a5b-8333-2ec8c3b442c9</td>\n",
              "      <td>https://www.artic.edu/iiif/2/0cbb30ee-ca48-6a5...</td>\n",
              "      <td>192692</td>\n",
              "      <td>Vignette #2</td>\n",
              "      <td>47905</td>\n",
              "      <td>Kerry James Marshall</td>\n",
              "      <td>TM-10368</td>\n",
              "      <td>TM-9</td>\n",
              "      <td>NaN</td>\n",
              "      <td>NaN</td>\n",
              "      <td>NaN</td>\n",
              "      <td>NaN</td>\n",
              "      <td>NaN</td>\n",
              "      <td>NaN</td>\n",
              "      <td>NaN</td>\n",
              "      <td>acrylic paintings (visual works)</td>\n",
              "      <td>painting</td>\n",
              "      <td>NaN</td>\n",
              "      <td>NaN</td>\n",
              "      <td>NaN</td>\n",
              "      <td>NaN</td>\n",
              "      <td>NaN</td>\n",
              "      <td>NaN</td>\n",
              "      <td>NaN</td>\n",
              "    </tr>\n",
              "    <tr>\n",
              "      <th>250</th>\n",
              "      <td>6f136298-d85d-b10f-2543-b5673fb37b0e</td>\n",
              "      <td>https://www.artic.edu/iiif/2/6f136298-d85d-b10...</td>\n",
              "      <td>192692</td>\n",
              "      <td>Vignette #2</td>\n",
              "      <td>47905</td>\n",
              "      <td>Kerry James Marshall</td>\n",
              "      <td>TM-10368</td>\n",
              "      <td>TM-9</td>\n",
              "      <td>NaN</td>\n",
              "      <td>NaN</td>\n",
              "      <td>NaN</td>\n",
              "      <td>NaN</td>\n",
              "      <td>NaN</td>\n",
              "      <td>NaN</td>\n",
              "      <td>NaN</td>\n",
              "      <td>acrylic paintings (visual works)</td>\n",
              "      <td>painting</td>\n",
              "      <td>NaN</td>\n",
              "      <td>NaN</td>\n",
              "      <td>NaN</td>\n",
              "      <td>NaN</td>\n",
              "      <td>NaN</td>\n",
              "      <td>NaN</td>\n",
              "      <td>NaN</td>\n",
              "    </tr>\n",
              "    <tr>\n",
              "      <th>268</th>\n",
              "      <td>453b14c1-209a-dca9-b5f4-fdcfef8194fe</td>\n",
              "      <td>https://www.artic.edu/iiif/2/453b14c1-209a-dca...</td>\n",
              "      <td>255335</td>\n",
              "      <td>End World Music</td>\n",
              "      <td>114612</td>\n",
              "      <td>Carol Jackson</td>\n",
              "      <td>TM-1197</td>\n",
              "      <td>TM-701</td>\n",
              "      <td>NaN</td>\n",
              "      <td>NaN</td>\n",
              "      <td>NaN</td>\n",
              "      <td>NaN</td>\n",
              "      <td>NaN</td>\n",
              "      <td>NaN</td>\n",
              "      <td>NaN</td>\n",
              "      <td>digital print</td>\n",
              "      <td>leather</td>\n",
              "      <td>NaN</td>\n",
              "      <td>NaN</td>\n",
              "      <td>NaN</td>\n",
              "      <td>NaN</td>\n",
              "      <td>NaN</td>\n",
              "      <td>NaN</td>\n",
              "      <td>NaN</td>\n",
              "    </tr>\n",
              "    <tr>\n",
              "      <th>383</th>\n",
              "      <td>01b56179-17ff-7e02-baec-46ee69ec2e44</td>\n",
              "      <td>https://www.artic.edu/iiif/2/01b56179-17ff-7e0...</td>\n",
              "      <td>77443</td>\n",
              "      <td>Reflective Love, from the series \"Anthology of...</td>\n",
              "      <td>37074</td>\n",
              "      <td>Kitagawa Utamaro</td>\n",
              "      <td>TM-402</td>\n",
              "      <td>TM-17</td>\n",
              "      <td>TM-26</td>\n",
              "      <td>NaN</td>\n",
              "      <td>NaN</td>\n",
              "      <td>NaN</td>\n",
              "      <td>NaN</td>\n",
              "      <td>NaN</td>\n",
              "      <td>NaN</td>\n",
              "      <td>woodblock print</td>\n",
              "      <td>print</td>\n",
              "      <td>asian art</td>\n",
              "      <td>NaN</td>\n",
              "      <td>NaN</td>\n",
              "      <td>NaN</td>\n",
              "      <td>NaN</td>\n",
              "      <td>NaN</td>\n",
              "      <td>NaN</td>\n",
              "    </tr>\n",
              "    <tr>\n",
              "      <th>384</th>\n",
              "      <td>6eb8c70d-217a-a757-05ee-ea393fdc5ec5</td>\n",
              "      <td>https://www.artic.edu/iiif/2/6eb8c70d-217a-a75...</td>\n",
              "      <td>77443</td>\n",
              "      <td>Reflective Love, from the series \"Anthology of...</td>\n",
              "      <td>37074</td>\n",
              "      <td>Kitagawa Utamaro</td>\n",
              "      <td>TM-402</td>\n",
              "      <td>TM-17</td>\n",
              "      <td>TM-26</td>\n",
              "      <td>NaN</td>\n",
              "      <td>NaN</td>\n",
              "      <td>NaN</td>\n",
              "      <td>NaN</td>\n",
              "      <td>NaN</td>\n",
              "      <td>NaN</td>\n",
              "      <td>woodblock print</td>\n",
              "      <td>print</td>\n",
              "      <td>asian art</td>\n",
              "      <td>NaN</td>\n",
              "      <td>NaN</td>\n",
              "      <td>NaN</td>\n",
              "      <td>NaN</td>\n",
              "      <td>NaN</td>\n",
              "      <td>NaN</td>\n",
              "    </tr>\n",
              "  </tbody>\n",
              "</table>\n",
              "</div>"
            ],
            "text/plain": [
              "                                   url_id  ... class_titles_9\n",
              "249  0cbb30ee-ca48-6a5b-8333-2ec8c3b442c9  ...            NaN\n",
              "250  6f136298-d85d-b10f-2543-b5673fb37b0e  ...            NaN\n",
              "268  453b14c1-209a-dca9-b5f4-fdcfef8194fe  ...            NaN\n",
              "383  01b56179-17ff-7e02-baec-46ee69ec2e44  ...            NaN\n",
              "384  6eb8c70d-217a-a757-05ee-ea393fdc5ec5  ...            NaN\n",
              "\n",
              "[5 rows x 24 columns]"
            ]
          },
          "metadata": {
            "tags": []
          },
          "execution_count": 82
        }
      ]
    },
    {
      "cell_type": "code",
      "metadata": {
        "id": "P_gnV4td094T",
        "colab_type": "code",
        "colab": {
          "base_uri": "https://localhost:8080/",
          "height": 932
        },
        "outputId": "44487b3b-dc41-45ef-c979-d53aa07a14eb"
      },
      "source": [
        "full_df_filter2.dropna(how='all', axis=1)"
      ],
      "execution_count": 83,
      "outputs": [
        {
          "output_type": "execute_result",
          "data": {
            "text/html": [
              "<div>\n",
              "<style scoped>\n",
              "    .dataframe tbody tr th:only-of-type {\n",
              "        vertical-align: middle;\n",
              "    }\n",
              "\n",
              "    .dataframe tbody tr th {\n",
              "        vertical-align: top;\n",
              "    }\n",
              "\n",
              "    .dataframe thead th {\n",
              "        text-align: right;\n",
              "    }\n",
              "</style>\n",
              "<table border=\"1\" class=\"dataframe\">\n",
              "  <thead>\n",
              "    <tr style=\"text-align: right;\">\n",
              "      <th></th>\n",
              "      <th>url_id</th>\n",
              "      <th>iiif_url</th>\n",
              "      <th>artwork_id</th>\n",
              "      <th>artwork_title</th>\n",
              "      <th>artist_id</th>\n",
              "      <th>artist</th>\n",
              "      <th>class_ids_1</th>\n",
              "      <th>class_ids_2</th>\n",
              "      <th>class_ids_3</th>\n",
              "      <th>class_ids_4</th>\n",
              "      <th>class_ids_5</th>\n",
              "      <th>class_ids_6</th>\n",
              "      <th>class_ids_7</th>\n",
              "      <th>class_titles_1</th>\n",
              "      <th>class_titles_2</th>\n",
              "      <th>class_titles_3</th>\n",
              "      <th>class_titles_4</th>\n",
              "      <th>class_titles_5</th>\n",
              "      <th>class_titles_6</th>\n",
              "      <th>class_titles_7</th>\n",
              "    </tr>\n",
              "  </thead>\n",
              "  <tbody>\n",
              "    <tr>\n",
              "      <th>249</th>\n",
              "      <td>0cbb30ee-ca48-6a5b-8333-2ec8c3b442c9</td>\n",
              "      <td>https://www.artic.edu/iiif/2/0cbb30ee-ca48-6a5...</td>\n",
              "      <td>192692</td>\n",
              "      <td>Vignette #2</td>\n",
              "      <td>47905</td>\n",
              "      <td>Kerry James Marshall</td>\n",
              "      <td>TM-10368</td>\n",
              "      <td>TM-9</td>\n",
              "      <td>NaN</td>\n",
              "      <td>NaN</td>\n",
              "      <td>NaN</td>\n",
              "      <td>NaN</td>\n",
              "      <td>NaN</td>\n",
              "      <td>acrylic paintings (visual works)</td>\n",
              "      <td>painting</td>\n",
              "      <td>NaN</td>\n",
              "      <td>NaN</td>\n",
              "      <td>NaN</td>\n",
              "      <td>NaN</td>\n",
              "      <td>NaN</td>\n",
              "    </tr>\n",
              "    <tr>\n",
              "      <th>250</th>\n",
              "      <td>6f136298-d85d-b10f-2543-b5673fb37b0e</td>\n",
              "      <td>https://www.artic.edu/iiif/2/6f136298-d85d-b10...</td>\n",
              "      <td>192692</td>\n",
              "      <td>Vignette #2</td>\n",
              "      <td>47905</td>\n",
              "      <td>Kerry James Marshall</td>\n",
              "      <td>TM-10368</td>\n",
              "      <td>TM-9</td>\n",
              "      <td>NaN</td>\n",
              "      <td>NaN</td>\n",
              "      <td>NaN</td>\n",
              "      <td>NaN</td>\n",
              "      <td>NaN</td>\n",
              "      <td>acrylic paintings (visual works)</td>\n",
              "      <td>painting</td>\n",
              "      <td>NaN</td>\n",
              "      <td>NaN</td>\n",
              "      <td>NaN</td>\n",
              "      <td>NaN</td>\n",
              "      <td>NaN</td>\n",
              "    </tr>\n",
              "    <tr>\n",
              "      <th>268</th>\n",
              "      <td>453b14c1-209a-dca9-b5f4-fdcfef8194fe</td>\n",
              "      <td>https://www.artic.edu/iiif/2/453b14c1-209a-dca...</td>\n",
              "      <td>255335</td>\n",
              "      <td>End World Music</td>\n",
              "      <td>114612</td>\n",
              "      <td>Carol Jackson</td>\n",
              "      <td>TM-1197</td>\n",
              "      <td>TM-701</td>\n",
              "      <td>NaN</td>\n",
              "      <td>NaN</td>\n",
              "      <td>NaN</td>\n",
              "      <td>NaN</td>\n",
              "      <td>NaN</td>\n",
              "      <td>digital print</td>\n",
              "      <td>leather</td>\n",
              "      <td>NaN</td>\n",
              "      <td>NaN</td>\n",
              "      <td>NaN</td>\n",
              "      <td>NaN</td>\n",
              "      <td>NaN</td>\n",
              "    </tr>\n",
              "    <tr>\n",
              "      <th>383</th>\n",
              "      <td>01b56179-17ff-7e02-baec-46ee69ec2e44</td>\n",
              "      <td>https://www.artic.edu/iiif/2/01b56179-17ff-7e0...</td>\n",
              "      <td>77443</td>\n",
              "      <td>Reflective Love, from the series \"Anthology of...</td>\n",
              "      <td>37074</td>\n",
              "      <td>Kitagawa Utamaro</td>\n",
              "      <td>TM-402</td>\n",
              "      <td>TM-17</td>\n",
              "      <td>TM-26</td>\n",
              "      <td>NaN</td>\n",
              "      <td>NaN</td>\n",
              "      <td>NaN</td>\n",
              "      <td>NaN</td>\n",
              "      <td>woodblock print</td>\n",
              "      <td>print</td>\n",
              "      <td>asian art</td>\n",
              "      <td>NaN</td>\n",
              "      <td>NaN</td>\n",
              "      <td>NaN</td>\n",
              "      <td>NaN</td>\n",
              "    </tr>\n",
              "    <tr>\n",
              "      <th>384</th>\n",
              "      <td>6eb8c70d-217a-a757-05ee-ea393fdc5ec5</td>\n",
              "      <td>https://www.artic.edu/iiif/2/6eb8c70d-217a-a75...</td>\n",
              "      <td>77443</td>\n",
              "      <td>Reflective Love, from the series \"Anthology of...</td>\n",
              "      <td>37074</td>\n",
              "      <td>Kitagawa Utamaro</td>\n",
              "      <td>TM-402</td>\n",
              "      <td>TM-17</td>\n",
              "      <td>TM-26</td>\n",
              "      <td>NaN</td>\n",
              "      <td>NaN</td>\n",
              "      <td>NaN</td>\n",
              "      <td>NaN</td>\n",
              "      <td>woodblock print</td>\n",
              "      <td>print</td>\n",
              "      <td>asian art</td>\n",
              "      <td>NaN</td>\n",
              "      <td>NaN</td>\n",
              "      <td>NaN</td>\n",
              "      <td>NaN</td>\n",
              "    </tr>\n",
              "    <tr>\n",
              "      <th>...</th>\n",
              "      <td>...</td>\n",
              "      <td>...</td>\n",
              "      <td>...</td>\n",
              "      <td>...</td>\n",
              "      <td>...</td>\n",
              "      <td>...</td>\n",
              "      <td>...</td>\n",
              "      <td>...</td>\n",
              "      <td>...</td>\n",
              "      <td>...</td>\n",
              "      <td>...</td>\n",
              "      <td>...</td>\n",
              "      <td>...</td>\n",
              "      <td>...</td>\n",
              "      <td>...</td>\n",
              "      <td>...</td>\n",
              "      <td>...</td>\n",
              "      <td>...</td>\n",
              "      <td>...</td>\n",
              "      <td>...</td>\n",
              "    </tr>\n",
              "    <tr>\n",
              "      <th>115634</th>\n",
              "      <td>04673eda-4853-ace6-47bb-1d8f6b0f4ec6</td>\n",
              "      <td>https://www.artic.edu/iiif/2/04673eda-4853-ace...</td>\n",
              "      <td>182276</td>\n",
              "      <td>Quaker's Meeting</td>\n",
              "      <td>16649</td>\n",
              "      <td>Matsubara Naoko</td>\n",
              "      <td>TM-2392</td>\n",
              "      <td>TM-402</td>\n",
              "      <td>TM-17</td>\n",
              "      <td>NaN</td>\n",
              "      <td>NaN</td>\n",
              "      <td>NaN</td>\n",
              "      <td>NaN</td>\n",
              "      <td>woodblock</td>\n",
              "      <td>woodblock print</td>\n",
              "      <td>print</td>\n",
              "      <td>NaN</td>\n",
              "      <td>NaN</td>\n",
              "      <td>NaN</td>\n",
              "      <td>NaN</td>\n",
              "    </tr>\n",
              "    <tr>\n",
              "      <th>115643</th>\n",
              "      <td>00774bab-b554-e6ee-94ac-b6345598a5c8</td>\n",
              "      <td>https://www.artic.edu/iiif/2/00774bab-b554-e6e...</td>\n",
              "      <td>227107</td>\n",
              "      <td>Woman Seated at a Table with a Sculpture</td>\n",
              "      <td>40786</td>\n",
              "      <td>Theodore Roszak</td>\n",
              "      <td>TM-71</td>\n",
              "      <td>TM-17</td>\n",
              "      <td>NaN</td>\n",
              "      <td>NaN</td>\n",
              "      <td>NaN</td>\n",
              "      <td>NaN</td>\n",
              "      <td>NaN</td>\n",
              "      <td>lithograph</td>\n",
              "      <td>print</td>\n",
              "      <td>NaN</td>\n",
              "      <td>NaN</td>\n",
              "      <td>NaN</td>\n",
              "      <td>NaN</td>\n",
              "      <td>NaN</td>\n",
              "    </tr>\n",
              "    <tr>\n",
              "      <th>115652</th>\n",
              "      <td>0040924e-cfa1-07f9-5fc5-eb670351ad38</td>\n",
              "      <td>https://www.artic.edu/iiif/2/0040924e-cfa1-07f...</td>\n",
              "      <td>214949</td>\n",
              "      <td>Gamblers Celebration</td>\n",
              "      <td>32458</td>\n",
              "      <td>Irving Petlin</td>\n",
              "      <td>TM-71</td>\n",
              "      <td>TM-17</td>\n",
              "      <td>NaN</td>\n",
              "      <td>NaN</td>\n",
              "      <td>NaN</td>\n",
              "      <td>NaN</td>\n",
              "      <td>NaN</td>\n",
              "      <td>lithograph</td>\n",
              "      <td>print</td>\n",
              "      <td>NaN</td>\n",
              "      <td>NaN</td>\n",
              "      <td>NaN</td>\n",
              "      <td>NaN</td>\n",
              "      <td>NaN</td>\n",
              "    </tr>\n",
              "    <tr>\n",
              "      <th>115693</th>\n",
              "      <td>04958d0c-3f1e-5759-a445-9cc93e8c0447</td>\n",
              "      <td>https://www.artic.edu/iiif/2/04958d0c-3f1e-575...</td>\n",
              "      <td>216240</td>\n",
              "      <td>Truisms</td>\n",
              "      <td>67527</td>\n",
              "      <td>Jenny Holzer</td>\n",
              "      <td>TM-71</td>\n",
              "      <td>TM-17</td>\n",
              "      <td>NaN</td>\n",
              "      <td>NaN</td>\n",
              "      <td>NaN</td>\n",
              "      <td>NaN</td>\n",
              "      <td>NaN</td>\n",
              "      <td>lithograph</td>\n",
              "      <td>print</td>\n",
              "      <td>NaN</td>\n",
              "      <td>NaN</td>\n",
              "      <td>NaN</td>\n",
              "      <td>NaN</td>\n",
              "      <td>NaN</td>\n",
              "    </tr>\n",
              "    <tr>\n",
              "      <th>115695</th>\n",
              "      <td>04c99db5-d16d-270d-9a09-1e4194862f9b</td>\n",
              "      <td>https://www.artic.edu/iiif/2/04c99db5-d16d-270...</td>\n",
              "      <td>219492</td>\n",
              "      <td>The Dream</td>\n",
              "      <td>112792</td>\n",
              "      <td>Cecil Buller</td>\n",
              "      <td>TM-145</td>\n",
              "      <td>TM-223</td>\n",
              "      <td>TM-17</td>\n",
              "      <td>NaN</td>\n",
              "      <td>NaN</td>\n",
              "      <td>NaN</td>\n",
              "      <td>NaN</td>\n",
              "      <td>paper</td>\n",
              "      <td>linocut</td>\n",
              "      <td>print</td>\n",
              "      <td>NaN</td>\n",
              "      <td>NaN</td>\n",
              "      <td>NaN</td>\n",
              "      <td>NaN</td>\n",
              "    </tr>\n",
              "  </tbody>\n",
              "</table>\n",
              "<p>14654 rows × 20 columns</p>\n",
              "</div>"
            ],
            "text/plain": [
              "                                      url_id  ... class_titles_7\n",
              "249     0cbb30ee-ca48-6a5b-8333-2ec8c3b442c9  ...            NaN\n",
              "250     6f136298-d85d-b10f-2543-b5673fb37b0e  ...            NaN\n",
              "268     453b14c1-209a-dca9-b5f4-fdcfef8194fe  ...            NaN\n",
              "383     01b56179-17ff-7e02-baec-46ee69ec2e44  ...            NaN\n",
              "384     6eb8c70d-217a-a757-05ee-ea393fdc5ec5  ...            NaN\n",
              "...                                      ...  ...            ...\n",
              "115634  04673eda-4853-ace6-47bb-1d8f6b0f4ec6  ...            NaN\n",
              "115643  00774bab-b554-e6ee-94ac-b6345598a5c8  ...            NaN\n",
              "115652  0040924e-cfa1-07f9-5fc5-eb670351ad38  ...            NaN\n",
              "115693  04958d0c-3f1e-5759-a445-9cc93e8c0447  ...            NaN\n",
              "115695  04c99db5-d16d-270d-9a09-1e4194862f9b  ...            NaN\n",
              "\n",
              "[14654 rows x 20 columns]"
            ]
          },
          "metadata": {
            "tags": []
          },
          "execution_count": 83
        }
      ]
    },
    {
      "cell_type": "code",
      "metadata": {
        "id": "Cgn48Fn7Sxqp",
        "colab_type": "code",
        "colab": {}
      },
      "source": [
        "full_df_filter2.to_csv('aic_merged_filtered_small.csv', index=False)"
      ],
      "execution_count": 0,
      "outputs": []
    },
    {
      "cell_type": "code",
      "metadata": {
        "id": "0M_78vp0iYOt",
        "colab_type": "code",
        "colab": {}
      },
      "source": [
        "import pandas as pd\n",
        "aic_art_final = pd.read_csv('drive/My Drive/Colab Notebooks/aic_merged_filtered_small.csv')"
      ],
      "execution_count": 0,
      "outputs": []
    },
    {
      "cell_type": "markdown",
      "metadata": {
        "id": "_nPMdqaKnERL",
        "colab_type": "text"
      },
      "source": [
        "# Getting Color Information from the API Using Google Vision API\n",
        "\n",
        "The next step is to put together a list of the API links and see if I can use the Google Vision API to pull RGB color information from the paintings. "
      ]
    },
    {
      "cell_type": "code",
      "metadata": {
        "id": "8E0APXvrzBWA",
        "colab_type": "code",
        "colab": {}
      },
      "source": [
        "# getting list of image urls\n",
        "url_list = aic_art_final['iiif_url'].tolist()"
      ],
      "execution_count": 0,
      "outputs": []
    },
    {
      "cell_type": "code",
      "metadata": {
        "id": "mPv_zOsmBXuU",
        "colab_type": "code",
        "colab": {}
      },
      "source": [
        "# adding the ending that determines what region, size, and rotation is requested\n",
        "url_list_final = [url + '/full/700,/0/default.jpg' for url in url_list]"
      ],
      "execution_count": 0,
      "outputs": []
    },
    {
      "cell_type": "code",
      "metadata": {
        "id": "6NG_RYfyCe6e",
        "colab_type": "code",
        "colab": {
          "base_uri": "https://localhost:8080/",
          "height": 34
        },
        "outputId": "6a3b0fe6-0a82-441a-b13d-be11555b6525"
      },
      "source": [
        "# test to make sure the urls will be correct\n",
        "print(url_list_final[0])"
      ],
      "execution_count": 6,
      "outputs": [
        {
          "output_type": "stream",
          "text": [
            "https://www.artic.edu/iiif/2/0cbb30ee-ca48-6a5b-8333-2ec8c3b442c9/full/700,/0/default.jpg\n"
          ],
          "name": "stdout"
        }
      ]
    },
    {
      "cell_type": "code",
      "metadata": {
        "id": "wWobw6D6EkeF",
        "colab_type": "code",
        "colab": {
          "base_uri": "https://localhost:8080/",
          "height": 122
        },
        "outputId": "e3ec6675-7dfa-4daf-fb6a-6c79e7c723c0"
      },
      "source": [
        "# install Google Cloud Vision\n",
        "!pip install google-cloud-vision -q gwpy"
      ],
      "execution_count": 1,
      "outputs": [
        {
          "output_type": "stream",
          "text": [
            "\u001b[K     |████████████████████████████████| 440kB 2.8MB/s \n",
            "\u001b[K     |████████████████████████████████| 1.4MB 49.0MB/s \n",
            "\u001b[K     |████████████████████████████████| 51kB 7.6MB/s \n",
            "\u001b[K     |████████████████████████████████| 61kB 8.2MB/s \n",
            "\u001b[K     |████████████████████████████████| 2.7MB 44.2MB/s \n",
            "\u001b[?25h  Building wheel for ligo-segments (setup.py) ... \u001b[?25l\u001b[?25hdone\n"
          ],
          "name": "stdout"
        }
      ]
    },
    {
      "cell_type": "code",
      "metadata": {
        "id": "Q5iZYiBYE-PE",
        "colab_type": "code",
        "colab": {}
      },
      "source": [
        "import os\n",
        "from google.cloud import vision\n",
        "import io"
      ],
      "execution_count": 0,
      "outputs": []
    },
    {
      "cell_type": "code",
      "metadata": {
        "id": "53qgcWyIE6WE",
        "colab_type": "code",
        "colab": {}
      },
      "source": [
        "# get credentials for Google Vision API\n",
        "os.environ[\"GOOGLE_APPLICATION_CREDENTIALS\"] = '/content/drive/My Drive/MSDS462/key.json'"
      ],
      "execution_count": 0,
      "outputs": []
    },
    {
      "cell_type": "code",
      "metadata": {
        "id": "H0L8NV1RFAeW",
        "colab_type": "code",
        "colab": {}
      },
      "source": [
        "# Get top 3 dominant colors of image\n",
        "def primary_color(path):\n",
        "    \"\"\"Detects image properties in the file.\"\"\"\n",
        "    \n",
        "    client = vision.ImageAnnotatorClient()\n",
        "    image = vision.types.Image()\n",
        "    image.source.image_uri = path\n",
        "\n",
        "    response = client.image_properties(image=image)\n",
        "    props = response.image_properties_annotation\n",
        "\n",
        "    for color in props.dominant_colors.colors[:2]:\n",
        "        red_list.append(color.color.red)\n",
        "        green_list.append(color.color.green)\n",
        "        blue_list.append(color.color.blue)\n",
        "        fraction_list.append(color.pixel_fraction) "
      ],
      "execution_count": 0,
      "outputs": []
    },
    {
      "cell_type": "code",
      "metadata": {
        "id": "Hfo5ZMqyH3Gc",
        "colab_type": "code",
        "colab": {}
      },
      "source": [
        "# empty lists to store color data\n",
        "red_list, blue_list, green_list = [], [], []\n",
        "fraction_list = []"
      ],
      "execution_count": 0,
      "outputs": []
    },
    {
      "cell_type": "code",
      "metadata": {
        "id": "o7j0da6lIdL3",
        "colab_type": "code",
        "colab": {}
      },
      "source": [
        "# test list for Google Vision API\n",
        "test_url_list = url_list_final[0:5]"
      ],
      "execution_count": 0,
      "outputs": []
    },
    {
      "cell_type": "code",
      "metadata": {
        "id": "sziUQvZWZDPJ",
        "colab_type": "code",
        "colab": {
          "base_uri": "https://localhost:8080/",
          "height": 104
        },
        "outputId": "9af03c13-19f9-4071-d41c-aef8387cdfbe"
      },
      "source": [
        "test_url_list"
      ],
      "execution_count": 63,
      "outputs": [
        {
          "output_type": "execute_result",
          "data": {
            "text/plain": [
              "['https://www.artic.edu/iiif/2/0cbb30ee-ca48-6a5b-8333-2ec8c3b442c9/full/700,/0/default.jpg',\n",
              " 'https://www.artic.edu/iiif/2/453b14c1-209a-dca9-b5f4-fdcfef8194fe/full/700,/0/default.jpg',\n",
              " 'https://www.artic.edu/iiif/2/01b56179-17ff-7e02-baec-46ee69ec2e44/full/700,/0/default.jpg',\n",
              " 'https://www.artic.edu/iiif/2/912de73c-db62-d7da-6986-7dd7b7b073a1/full/700,/0/default.jpg',\n",
              " 'https://www.artic.edu/iiif/2/60efdf89-ded6-31b4-9994-0f9fb81df8d8/full/700,/0/default.jpg']"
            ]
          },
          "metadata": {
            "tags": []
          },
          "execution_count": 63
        }
      ]
    },
    {
      "cell_type": "code",
      "metadata": {
        "id": "fHHAZ8AEIupk",
        "colab_type": "code",
        "colab": {}
      },
      "source": [
        "for url in test_url_list:\n",
        "  primary_color(url)"
      ],
      "execution_count": 0,
      "outputs": []
    },
    {
      "cell_type": "code",
      "metadata": {
        "id": "54BIJfZ3XE8v",
        "colab_type": "code",
        "colab": {}
      },
      "source": [
        "artists = aic_art_final['artist'][0:5].tolist()\n",
        "titles = aic_art_final['artwork_title'][0:5].tolist()"
      ],
      "execution_count": 0,
      "outputs": []
    },
    {
      "cell_type": "code",
      "metadata": {
        "id": "x7vMsGQ6Xkks",
        "colab_type": "code",
        "colab": {}
      },
      "source": [
        "color_dict = {'artist': artists, 'title': titles, 'red': red_list, 'blue': blue_list, 'green': green_list, 'fraction': fraction_list}"
      ],
      "execution_count": 0,
      "outputs": []
    },
    {
      "cell_type": "code",
      "metadata": {
        "id": "hWJzx6lAYtuY",
        "colab_type": "code",
        "colab": {
          "base_uri": "https://localhost:8080/",
          "height": 107
        },
        "outputId": "1faf45c4-b7d3-443b-8b88-7ab729a7872b"
      },
      "source": [
        "print(red_list)\n",
        "print(green_list)\n",
        "print(blue_list)\n",
        "print(fraction_list)"
      ],
      "execution_count": 65,
      "outputs": [
        {
          "output_type": "stream",
          "text": [
            "[56.0, 164.0, 162.0, 20.0, 217.0, 50.0, 106.0, 129.0, 213.0, 166.0]\n",
            "[46.0, 155.0, 155.0, 15.0, 205.0, 46.0, 76.0, 113.0, 200.0, 155.0]\n",
            "[47.0, 155.0, 148.0, 12.0, 179.0, 42.0, 75.0, 105.0, 167.0, 126.0]\n",
            "[0.07742683589458466, 0.06253259629011154, 0.10245098173618317, 0.0031512605492025614, 0.43246665596961975, 0.08879999816417694, 0.04991228133440018, 0.1291228085756302, 0.35539010167121887, 0.06140559911727905]\n"
          ],
          "name": "stdout"
        }
      ]
    },
    {
      "cell_type": "code",
      "metadata": {
        "id": "_L2xyNSoaz1z",
        "colab_type": "code",
        "colab": {
          "base_uri": "https://localhost:8080/",
          "height": 34
        },
        "outputId": "205ec686-4359-4ea8-a1a6-69947e976873"
      },
      "source": [
        "print(len(url_list_final))"
      ],
      "execution_count": 7,
      "outputs": [
        {
          "output_type": "stream",
          "text": [
            "14654\n"
          ],
          "name": "stdout"
        }
      ]
    },
    {
      "cell_type": "code",
      "metadata": {
        "id": "KcEgNpKA8kMU",
        "colab_type": "code",
        "colab": {
          "base_uri": "https://localhost:8080/",
          "height": 262
        },
        "outputId": "291074ae-cd15-432e-b939-163951adca6f"
      },
      "source": [
        "import requests\n",
        "\n",
        "stat_code = []\n",
        "# check that urls work\n",
        "for url in url_list_final:\n",
        "  response = requests.get(url)\n",
        "  stat_code.append(response.status_code)\n",
        "  if len(stat_code) % 1000 == 0:\n",
        "    print(f'stat_code length is {len(stat_code)}')"
      ],
      "execution_count": 8,
      "outputs": [
        {
          "output_type": "stream",
          "text": [
            "stat_code length is 1000\n",
            "stat_code length is 2000\n",
            "stat_code length is 3000\n",
            "stat_code length is 4000\n",
            "stat_code length is 5000\n",
            "stat_code length is 6000\n",
            "stat_code length is 7000\n",
            "stat_code length is 8000\n",
            "stat_code length is 9000\n",
            "stat_code length is 10000\n",
            "stat_code length is 11000\n",
            "stat_code length is 12000\n",
            "stat_code length is 13000\n",
            "stat_code length is 14000\n"
          ],
          "name": "stdout"
        }
      ]
    },
    {
      "cell_type": "code",
      "metadata": {
        "id": "rGBssxqOZsnU",
        "colab_type": "code",
        "colab": {
          "base_uri": "https://localhost:8080/",
          "height": 204
        },
        "outputId": "09cb8d45-117e-4926-9887-b6f4de8a7d39"
      },
      "source": [
        "# make data frame of links with status code\n",
        "url_dict = {'url': url_list_final, 'stat_code': stat_code}\n",
        "url_df = pd.DataFrame(url_dict)\n",
        "url_df.head()"
      ],
      "execution_count": 10,
      "outputs": [
        {
          "output_type": "execute_result",
          "data": {
            "text/html": [
              "<div>\n",
              "<style scoped>\n",
              "    .dataframe tbody tr th:only-of-type {\n",
              "        vertical-align: middle;\n",
              "    }\n",
              "\n",
              "    .dataframe tbody tr th {\n",
              "        vertical-align: top;\n",
              "    }\n",
              "\n",
              "    .dataframe thead th {\n",
              "        text-align: right;\n",
              "    }\n",
              "</style>\n",
              "<table border=\"1\" class=\"dataframe\">\n",
              "  <thead>\n",
              "    <tr style=\"text-align: right;\">\n",
              "      <th></th>\n",
              "      <th>url</th>\n",
              "      <th>stat_code</th>\n",
              "    </tr>\n",
              "  </thead>\n",
              "  <tbody>\n",
              "    <tr>\n",
              "      <th>0</th>\n",
              "      <td>https://www.artic.edu/iiif/2/0cbb30ee-ca48-6a5...</td>\n",
              "      <td>200</td>\n",
              "    </tr>\n",
              "    <tr>\n",
              "      <th>1</th>\n",
              "      <td>https://www.artic.edu/iiif/2/6f136298-d85d-b10...</td>\n",
              "      <td>404</td>\n",
              "    </tr>\n",
              "    <tr>\n",
              "      <th>2</th>\n",
              "      <td>https://www.artic.edu/iiif/2/453b14c1-209a-dca...</td>\n",
              "      <td>200</td>\n",
              "    </tr>\n",
              "    <tr>\n",
              "      <th>3</th>\n",
              "      <td>https://www.artic.edu/iiif/2/01b56179-17ff-7e0...</td>\n",
              "      <td>200</td>\n",
              "    </tr>\n",
              "    <tr>\n",
              "      <th>4</th>\n",
              "      <td>https://www.artic.edu/iiif/2/6eb8c70d-217a-a75...</td>\n",
              "      <td>404</td>\n",
              "    </tr>\n",
              "  </tbody>\n",
              "</table>\n",
              "</div>"
            ],
            "text/plain": [
              "                                                 url  stat_code\n",
              "0  https://www.artic.edu/iiif/2/0cbb30ee-ca48-6a5...        200\n",
              "1  https://www.artic.edu/iiif/2/6f136298-d85d-b10...        404\n",
              "2  https://www.artic.edu/iiif/2/453b14c1-209a-dca...        200\n",
              "3  https://www.artic.edu/iiif/2/01b56179-17ff-7e0...        200\n",
              "4  https://www.artic.edu/iiif/2/6eb8c70d-217a-a75...        404"
            ]
          },
          "metadata": {
            "tags": []
          },
          "execution_count": 10
        }
      ]
    },
    {
      "cell_type": "code",
      "metadata": {
        "id": "s9mwTxhzpwoR",
        "colab_type": "code",
        "colab": {
          "base_uri": "https://localhost:8080/",
          "height": 34
        },
        "outputId": "ad420a73-00be-4818-b682-716b2c4674e7"
      },
      "source": [
        "#filter out only working links\n",
        "url_df = url_df[url_df['stat_code'] == 200]\n",
        "print(len(url_df))\n",
        "url_df.to_csv('aic_url_list.csv', index=None)"
      ],
      "execution_count": 20,
      "outputs": [
        {
          "output_type": "stream",
          "text": [
            "14382\n"
          ],
          "name": "stdout"
        }
      ]
    },
    {
      "cell_type": "code",
      "metadata": {
        "id": "ExfS6x9PsQWk",
        "colab_type": "code",
        "colab": {
          "base_uri": "https://localhost:8080/",
          "height": 204
        },
        "outputId": "a1928e01-cfd7-4267-b925-2e35d3ef1e8b"
      },
      "source": [
        "# loading file when new runtime starts\n",
        "import pandas as pd\n",
        "url_df = pd.read_csv('drive/My Drive/aic_url_list.csv')\n",
        "url_df.head()"
      ],
      "execution_count": 9,
      "outputs": [
        {
          "output_type": "execute_result",
          "data": {
            "text/html": [
              "<div>\n",
              "<style scoped>\n",
              "    .dataframe tbody tr th:only-of-type {\n",
              "        vertical-align: middle;\n",
              "    }\n",
              "\n",
              "    .dataframe tbody tr th {\n",
              "        vertical-align: top;\n",
              "    }\n",
              "\n",
              "    .dataframe thead th {\n",
              "        text-align: right;\n",
              "    }\n",
              "</style>\n",
              "<table border=\"1\" class=\"dataframe\">\n",
              "  <thead>\n",
              "    <tr style=\"text-align: right;\">\n",
              "      <th></th>\n",
              "      <th>url</th>\n",
              "      <th>stat_code</th>\n",
              "    </tr>\n",
              "  </thead>\n",
              "  <tbody>\n",
              "    <tr>\n",
              "      <th>0</th>\n",
              "      <td>https://www.artic.edu/iiif/2/0cbb30ee-ca48-6a5...</td>\n",
              "      <td>200</td>\n",
              "    </tr>\n",
              "    <tr>\n",
              "      <th>1</th>\n",
              "      <td>https://www.artic.edu/iiif/2/453b14c1-209a-dca...</td>\n",
              "      <td>200</td>\n",
              "    </tr>\n",
              "    <tr>\n",
              "      <th>2</th>\n",
              "      <td>https://www.artic.edu/iiif/2/01b56179-17ff-7e0...</td>\n",
              "      <td>200</td>\n",
              "    </tr>\n",
              "    <tr>\n",
              "      <th>3</th>\n",
              "      <td>https://www.artic.edu/iiif/2/912de73c-db62-d7d...</td>\n",
              "      <td>200</td>\n",
              "    </tr>\n",
              "    <tr>\n",
              "      <th>4</th>\n",
              "      <td>https://www.artic.edu/iiif/2/60efdf89-ded6-31b...</td>\n",
              "      <td>200</td>\n",
              "    </tr>\n",
              "  </tbody>\n",
              "</table>\n",
              "</div>"
            ],
            "text/plain": [
              "                                                 url  stat_code\n",
              "0  https://www.artic.edu/iiif/2/0cbb30ee-ca48-6a5...        200\n",
              "1  https://www.artic.edu/iiif/2/453b14c1-209a-dca...        200\n",
              "2  https://www.artic.edu/iiif/2/01b56179-17ff-7e0...        200\n",
              "3  https://www.artic.edu/iiif/2/912de73c-db62-d7d...        200\n",
              "4  https://www.artic.edu/iiif/2/60efdf89-ded6-31b...        200"
            ]
          },
          "metadata": {
            "tags": []
          },
          "execution_count": 9
        }
      ]
    },
    {
      "cell_type": "code",
      "metadata": {
        "id": "Zj7ZhiVJqJM5",
        "colab_type": "code",
        "colab": {}
      },
      "source": [
        "# update final url_list with only working links\n",
        "url_list_final = url_df['url'].tolist()"
      ],
      "execution_count": 0,
      "outputs": []
    },
    {
      "cell_type": "code",
      "metadata": {
        "id": "_-NjAmuaqxMq",
        "colab_type": "code",
        "colab": {}
      },
      "source": [
        "# combine with full dataframe and filter out images I won't be using\n",
        "frames = [url_df, aic_art_final]\n",
        "aic_art_final = pd.concat(frames, axis=1)"
      ],
      "execution_count": 0,
      "outputs": []
    },
    {
      "cell_type": "code",
      "metadata": {
        "id": "_QyCjPhwzdue",
        "colab_type": "code",
        "colab": {
          "base_uri": "https://localhost:8080/",
          "height": 479
        },
        "outputId": "3b2748a9-6595-4176-94e8-5fab8a265dbc"
      },
      "source": [
        "aic_art_final.head()"
      ],
      "execution_count": 34,
      "outputs": [
        {
          "output_type": "execute_result",
          "data": {
            "text/html": [
              "<div>\n",
              "<style scoped>\n",
              "    .dataframe tbody tr th:only-of-type {\n",
              "        vertical-align: middle;\n",
              "    }\n",
              "\n",
              "    .dataframe tbody tr th {\n",
              "        vertical-align: top;\n",
              "    }\n",
              "\n",
              "    .dataframe thead th {\n",
              "        text-align: right;\n",
              "    }\n",
              "</style>\n",
              "<table border=\"1\" class=\"dataframe\">\n",
              "  <thead>\n",
              "    <tr style=\"text-align: right;\">\n",
              "      <th></th>\n",
              "      <th>url</th>\n",
              "      <th>stat_code</th>\n",
              "      <th>url_id</th>\n",
              "      <th>iiif_url</th>\n",
              "      <th>artwork_id</th>\n",
              "      <th>artwork_title</th>\n",
              "      <th>artist_id</th>\n",
              "      <th>artist</th>\n",
              "      <th>class_ids_1</th>\n",
              "      <th>class_ids_2</th>\n",
              "      <th>class_ids_3</th>\n",
              "      <th>class_ids_4</th>\n",
              "      <th>class_ids_5</th>\n",
              "      <th>class_ids_6</th>\n",
              "      <th>class_ids_7</th>\n",
              "      <th>class_ids_8</th>\n",
              "      <th>class_ids_9</th>\n",
              "      <th>class_titles_1</th>\n",
              "      <th>class_titles_2</th>\n",
              "      <th>class_titles_3</th>\n",
              "      <th>class_titles_4</th>\n",
              "      <th>class_titles_5</th>\n",
              "      <th>class_titles_6</th>\n",
              "      <th>class_titles_7</th>\n",
              "      <th>class_titles_8</th>\n",
              "      <th>class_titles_9</th>\n",
              "    </tr>\n",
              "  </thead>\n",
              "  <tbody>\n",
              "    <tr>\n",
              "      <th>0</th>\n",
              "      <td>https://www.artic.edu/iiif/2/0cbb30ee-ca48-6a5...</td>\n",
              "      <td>200.0</td>\n",
              "      <td>0cbb30ee-ca48-6a5b-8333-2ec8c3b442c9</td>\n",
              "      <td>https://www.artic.edu/iiif/2/0cbb30ee-ca48-6a5...</td>\n",
              "      <td>192692</td>\n",
              "      <td>Vignette #2</td>\n",
              "      <td>47905</td>\n",
              "      <td>Kerry James Marshall</td>\n",
              "      <td>TM-10368</td>\n",
              "      <td>TM-9</td>\n",
              "      <td>NaN</td>\n",
              "      <td>NaN</td>\n",
              "      <td>NaN</td>\n",
              "      <td>NaN</td>\n",
              "      <td>NaN</td>\n",
              "      <td>NaN</td>\n",
              "      <td>NaN</td>\n",
              "      <td>acrylic paintings (visual works)</td>\n",
              "      <td>painting</td>\n",
              "      <td>NaN</td>\n",
              "      <td>NaN</td>\n",
              "      <td>NaN</td>\n",
              "      <td>NaN</td>\n",
              "      <td>NaN</td>\n",
              "      <td>NaN</td>\n",
              "      <td>NaN</td>\n",
              "    </tr>\n",
              "    <tr>\n",
              "      <th>1</th>\n",
              "      <td>NaN</td>\n",
              "      <td>NaN</td>\n",
              "      <td>6f136298-d85d-b10f-2543-b5673fb37b0e</td>\n",
              "      <td>https://www.artic.edu/iiif/2/6f136298-d85d-b10...</td>\n",
              "      <td>192692</td>\n",
              "      <td>Vignette #2</td>\n",
              "      <td>47905</td>\n",
              "      <td>Kerry James Marshall</td>\n",
              "      <td>TM-10368</td>\n",
              "      <td>TM-9</td>\n",
              "      <td>NaN</td>\n",
              "      <td>NaN</td>\n",
              "      <td>NaN</td>\n",
              "      <td>NaN</td>\n",
              "      <td>NaN</td>\n",
              "      <td>NaN</td>\n",
              "      <td>NaN</td>\n",
              "      <td>acrylic paintings (visual works)</td>\n",
              "      <td>painting</td>\n",
              "      <td>NaN</td>\n",
              "      <td>NaN</td>\n",
              "      <td>NaN</td>\n",
              "      <td>NaN</td>\n",
              "      <td>NaN</td>\n",
              "      <td>NaN</td>\n",
              "      <td>NaN</td>\n",
              "    </tr>\n",
              "    <tr>\n",
              "      <th>2</th>\n",
              "      <td>https://www.artic.edu/iiif/2/453b14c1-209a-dca...</td>\n",
              "      <td>200.0</td>\n",
              "      <td>453b14c1-209a-dca9-b5f4-fdcfef8194fe</td>\n",
              "      <td>https://www.artic.edu/iiif/2/453b14c1-209a-dca...</td>\n",
              "      <td>255335</td>\n",
              "      <td>End World Music</td>\n",
              "      <td>114612</td>\n",
              "      <td>Carol Jackson</td>\n",
              "      <td>TM-1197</td>\n",
              "      <td>TM-701</td>\n",
              "      <td>NaN</td>\n",
              "      <td>NaN</td>\n",
              "      <td>NaN</td>\n",
              "      <td>NaN</td>\n",
              "      <td>NaN</td>\n",
              "      <td>NaN</td>\n",
              "      <td>NaN</td>\n",
              "      <td>digital print</td>\n",
              "      <td>leather</td>\n",
              "      <td>NaN</td>\n",
              "      <td>NaN</td>\n",
              "      <td>NaN</td>\n",
              "      <td>NaN</td>\n",
              "      <td>NaN</td>\n",
              "      <td>NaN</td>\n",
              "      <td>NaN</td>\n",
              "    </tr>\n",
              "    <tr>\n",
              "      <th>3</th>\n",
              "      <td>https://www.artic.edu/iiif/2/01b56179-17ff-7e0...</td>\n",
              "      <td>200.0</td>\n",
              "      <td>01b56179-17ff-7e02-baec-46ee69ec2e44</td>\n",
              "      <td>https://www.artic.edu/iiif/2/01b56179-17ff-7e0...</td>\n",
              "      <td>77443</td>\n",
              "      <td>Reflective Love, from the series \"Anthology of...</td>\n",
              "      <td>37074</td>\n",
              "      <td>Kitagawa Utamaro</td>\n",
              "      <td>TM-402</td>\n",
              "      <td>TM-17</td>\n",
              "      <td>TM-26</td>\n",
              "      <td>NaN</td>\n",
              "      <td>NaN</td>\n",
              "      <td>NaN</td>\n",
              "      <td>NaN</td>\n",
              "      <td>NaN</td>\n",
              "      <td>NaN</td>\n",
              "      <td>woodblock print</td>\n",
              "      <td>print</td>\n",
              "      <td>asian art</td>\n",
              "      <td>NaN</td>\n",
              "      <td>NaN</td>\n",
              "      <td>NaN</td>\n",
              "      <td>NaN</td>\n",
              "      <td>NaN</td>\n",
              "      <td>NaN</td>\n",
              "    </tr>\n",
              "    <tr>\n",
              "      <th>4</th>\n",
              "      <td>NaN</td>\n",
              "      <td>NaN</td>\n",
              "      <td>6eb8c70d-217a-a757-05ee-ea393fdc5ec5</td>\n",
              "      <td>https://www.artic.edu/iiif/2/6eb8c70d-217a-a75...</td>\n",
              "      <td>77443</td>\n",
              "      <td>Reflective Love, from the series \"Anthology of...</td>\n",
              "      <td>37074</td>\n",
              "      <td>Kitagawa Utamaro</td>\n",
              "      <td>TM-402</td>\n",
              "      <td>TM-17</td>\n",
              "      <td>TM-26</td>\n",
              "      <td>NaN</td>\n",
              "      <td>NaN</td>\n",
              "      <td>NaN</td>\n",
              "      <td>NaN</td>\n",
              "      <td>NaN</td>\n",
              "      <td>NaN</td>\n",
              "      <td>woodblock print</td>\n",
              "      <td>print</td>\n",
              "      <td>asian art</td>\n",
              "      <td>NaN</td>\n",
              "      <td>NaN</td>\n",
              "      <td>NaN</td>\n",
              "      <td>NaN</td>\n",
              "      <td>NaN</td>\n",
              "      <td>NaN</td>\n",
              "    </tr>\n",
              "  </tbody>\n",
              "</table>\n",
              "</div>"
            ],
            "text/plain": [
              "                                                 url  ...  class_titles_9\n",
              "0  https://www.artic.edu/iiif/2/0cbb30ee-ca48-6a5...  ...             NaN\n",
              "1                                                NaN  ...             NaN\n",
              "2  https://www.artic.edu/iiif/2/453b14c1-209a-dca...  ...             NaN\n",
              "3  https://www.artic.edu/iiif/2/01b56179-17ff-7e0...  ...             NaN\n",
              "4                                                NaN  ...             NaN\n",
              "\n",
              "[5 rows x 26 columns]"
            ]
          },
          "metadata": {
            "tags": []
          },
          "execution_count": 34
        }
      ]
    },
    {
      "cell_type": "code",
      "metadata": {
        "id": "Y7iSR0nL1PVi",
        "colab_type": "code",
        "colab": {}
      },
      "source": [
        "# filtering out broken links for full dataframe and saving\n",
        "aic_art_final = aic_art_final[aic_art_final['stat_code'].notnull()]\n",
        "aic_art_final.head()\n",
        "aic_art_final.to_csv('aic_art_final_with_stat_codes.csv', index=None)"
      ],
      "execution_count": 0,
      "outputs": []
    },
    {
      "cell_type": "code",
      "metadata": {
        "id": "DW2IsSbD34Hf",
        "colab_type": "code",
        "colab": {
          "base_uri": "https://localhost:8080/",
          "height": 34
        },
        "outputId": "c3a3c9ad-ae52-4b0d-b47b-eb52673da31d"
      },
      "source": [
        "#data set with 14882 images\n",
        "len(url_list_final)"
      ],
      "execution_count": 67,
      "outputs": [
        {
          "output_type": "execute_result",
          "data": {
            "text/plain": [
              "14382"
            ]
          },
          "metadata": {
            "tags": []
          },
          "execution_count": 67
        }
      ]
    },
    {
      "cell_type": "code",
      "metadata": {
        "id": "xojWYrjBs4wP",
        "colab_type": "code",
        "colab": {
          "base_uri": "https://localhost:8080/",
          "height": 52
        },
        "outputId": "7a07e22d-8b04-4791-bf12-09130e1299c1"
      },
      "source": [
        "# I interrupted the first run of the Google CLoud Vision API, so this was me trying to start from where I left off\n",
        "url_list_final_split = url_list_final[7857:]\n",
        "print(len(url_list_final_split))"
      ],
      "execution_count": 13,
      "outputs": [
        {
          "output_type": "stream",
          "text": [
            "6525\n",
            "0\n"
          ],
          "name": "stdout"
        }
      ]
    },
    {
      "cell_type": "code",
      "metadata": {
        "id": "YJocbrVk31qU",
        "colab_type": "code",
        "colab": {}
      },
      "source": [
        "# running the Google Cloud Vision API function\n",
        "for url in url_list_final_split:\n",
        "  primary_color(url)"
      ],
      "execution_count": 0,
      "outputs": []
    },
    {
      "cell_type": "code",
      "metadata": {
        "id": "NOrl3waGvc5E",
        "colab_type": "code",
        "colab": {}
      },
      "source": [
        "# pickling the lists generated\n",
        "len(red_list)\n",
        "len(green_list)\n",
        "len(blue_list)\n",
        "len(fraction_list)\n",
        "import pickle\n",
        "with open('red_list_2.pkl', 'wb') as f:\n",
        "  pickle.dump(red_list, f)\n",
        "with open('green_list_2.pkl', 'wb') as f:\n",
        "  pickle.dump(green_list, f)\n",
        "with open('blue_list_2.pkl', 'wb') as f:\n",
        "  pickle.dump(blue_list, f)\n",
        "with open('fraction_list_2.pkl', 'wb') as f:\n",
        "  pickle.dump(fraction_list, f)\n"
      ],
      "execution_count": 0,
      "outputs": []
    },
    {
      "cell_type": "code",
      "metadata": {
        "id": "G6uApcYRwK2r",
        "colab_type": "code",
        "colab": {
          "base_uri": "https://localhost:8080/",
          "height": 52
        },
        "outputId": "18b05fa3-7f5d-42e4-919d-0d03cec154a4"
      },
      "source": [
        "# loading saved lists\n",
        "with open('drive/My Drive/red_list.pkl', 'rb') as f:\n",
        "  red_list_1 = pickle.load(f)\n",
        "with open('drive/My Drive/red_list_2.pkl', 'rb') as f:\n",
        "  red_list_2 = pickle.load(f)\n",
        "with open('drive/My Drive/green_list.pkl', 'rb') as f:\n",
        "  green_list_1 = pickle.load(f)\n",
        "with open('drive/My Drive/green_list_2.pkl', 'rb') as f:\n",
        "  green_list_2 = pickle.load(f)\n",
        "with open('drive/My Drive/blue_list.pkl', 'rb') as f:\n",
        "  blue_list_1 = pickle.load(f)\n",
        "with open('drive/My Drive/blue_list_2.pkl', 'rb') as f:\n",
        "  blue_list_2 = pickle.load(f)\n",
        "with open('drive/My Drive/fraction_list.pkl', 'rb') as f:\n",
        "  fraction_list_1 = pickle.load(f)\n",
        "with open('drive/My Drive/fraction_list_2.pkl', 'rb') as f:\n",
        "  fraction_list_2 = pickle.load(f)\n",
        "\n",
        "\n",
        "print(len(mynewlist))\n",
        "print(mynewlist[:5])"
      ],
      "execution_count": 19,
      "outputs": [
        {
          "output_type": "stream",
          "text": [
            "10779\n",
            "[124.0, 202.0, 160.0, 133.0, 208.0]\n"
          ],
          "name": "stdout"
        }
      ]
    },
    {
      "cell_type": "code",
      "metadata": {
        "id": "btLnE-zZdTbV",
        "colab_type": "code",
        "colab": {
          "base_uri": "https://localhost:8080/",
          "height": 87
        },
        "outputId": "2b0e3309-1d24-40da-f239-3fd48e297282"
      },
      "source": [
        "# attempting to merged the two lists I saved\n",
        "red_list_1.pop()\n",
        "print(len(red_list_1))\n",
        "print(len(green_list_1))\n",
        "print(len(blue_list_1))\n",
        "print(len(fraction_list_1))"
      ],
      "execution_count": 25,
      "outputs": [
        {
          "output_type": "stream",
          "text": [
            "15714\n",
            "15714\n",
            "15714\n",
            "15714\n"
          ],
          "name": "stdout"
        }
      ]
    },
    {
      "cell_type": "markdown",
      "metadata": {
        "id": "NLgMuxF873J7",
        "colab_type": "text"
      },
      "source": [
        "# More Data Wrangling\n",
        "It may be because my program got interrupted, but in the end, my rgb color lists, we should have contained the top 2 colors for each image was not the right length and did not match up properly with the images. \n",
        "\n",
        "I also noticed that the 20 artists represent about 45% of my dataset, and that 17 of those artists produced Japanese art prints. I want the set to be more diverse, so I want to pare the number of images down to a maximimum of 100 pieces per artist.\n",
        "\n",
        "The goal is to create a 10k image set down from the current 14382.\n",
        "\n"
      ]
    },
    {
      "cell_type": "code",
      "metadata": {
        "id": "qfkipQV0wpJi",
        "colab_type": "code",
        "colab": {
          "base_uri": "https://localhost:8080/",
          "height": 462
        },
        "outputId": "222c9825-88cf-444c-9fa3-099e8efe38d3"
      },
      "source": [
        "import pandas as pd\n",
        "# uploading complete dataframe\n",
        "aic_art_final = pd.read_csv('drive/My Drive/aic_art_final_with_stat_codes.csv')\n",
        "aic_art_final.head()"
      ],
      "execution_count": 2,
      "outputs": [
        {
          "output_type": "execute_result",
          "data": {
            "text/html": [
              "<div>\n",
              "<style scoped>\n",
              "    .dataframe tbody tr th:only-of-type {\n",
              "        vertical-align: middle;\n",
              "    }\n",
              "\n",
              "    .dataframe tbody tr th {\n",
              "        vertical-align: top;\n",
              "    }\n",
              "\n",
              "    .dataframe thead th {\n",
              "        text-align: right;\n",
              "    }\n",
              "</style>\n",
              "<table border=\"1\" class=\"dataframe\">\n",
              "  <thead>\n",
              "    <tr style=\"text-align: right;\">\n",
              "      <th></th>\n",
              "      <th>url</th>\n",
              "      <th>stat_code</th>\n",
              "      <th>url_id</th>\n",
              "      <th>iiif_url</th>\n",
              "      <th>artwork_id</th>\n",
              "      <th>artwork_title</th>\n",
              "      <th>artist_id</th>\n",
              "      <th>artist</th>\n",
              "      <th>class_ids_1</th>\n",
              "      <th>class_ids_2</th>\n",
              "      <th>class_ids_3</th>\n",
              "      <th>class_ids_4</th>\n",
              "      <th>class_ids_5</th>\n",
              "      <th>class_ids_6</th>\n",
              "      <th>class_ids_7</th>\n",
              "      <th>class_ids_8</th>\n",
              "      <th>class_ids_9</th>\n",
              "      <th>class_titles_1</th>\n",
              "      <th>class_titles_2</th>\n",
              "      <th>class_titles_3</th>\n",
              "      <th>class_titles_4</th>\n",
              "      <th>class_titles_5</th>\n",
              "      <th>class_titles_6</th>\n",
              "      <th>class_titles_7</th>\n",
              "      <th>class_titles_8</th>\n",
              "      <th>class_titles_9</th>\n",
              "    </tr>\n",
              "  </thead>\n",
              "  <tbody>\n",
              "    <tr>\n",
              "      <th>0</th>\n",
              "      <td>https://www.artic.edu/iiif/2/0cbb30ee-ca48-6a5...</td>\n",
              "      <td>200.0</td>\n",
              "      <td>0cbb30ee-ca48-6a5b-8333-2ec8c3b442c9</td>\n",
              "      <td>https://www.artic.edu/iiif/2/0cbb30ee-ca48-6a5...</td>\n",
              "      <td>192692</td>\n",
              "      <td>Vignette #2</td>\n",
              "      <td>47905</td>\n",
              "      <td>Kerry James Marshall</td>\n",
              "      <td>TM-10368</td>\n",
              "      <td>TM-9</td>\n",
              "      <td>NaN</td>\n",
              "      <td>NaN</td>\n",
              "      <td>NaN</td>\n",
              "      <td>NaN</td>\n",
              "      <td>NaN</td>\n",
              "      <td>NaN</td>\n",
              "      <td>NaN</td>\n",
              "      <td>acrylic paintings (visual works)</td>\n",
              "      <td>painting</td>\n",
              "      <td>NaN</td>\n",
              "      <td>NaN</td>\n",
              "      <td>NaN</td>\n",
              "      <td>NaN</td>\n",
              "      <td>NaN</td>\n",
              "      <td>NaN</td>\n",
              "      <td>NaN</td>\n",
              "    </tr>\n",
              "    <tr>\n",
              "      <th>1</th>\n",
              "      <td>https://www.artic.edu/iiif/2/453b14c1-209a-dca...</td>\n",
              "      <td>200.0</td>\n",
              "      <td>453b14c1-209a-dca9-b5f4-fdcfef8194fe</td>\n",
              "      <td>https://www.artic.edu/iiif/2/453b14c1-209a-dca...</td>\n",
              "      <td>255335</td>\n",
              "      <td>End World Music</td>\n",
              "      <td>114612</td>\n",
              "      <td>Carol Jackson</td>\n",
              "      <td>TM-1197</td>\n",
              "      <td>TM-701</td>\n",
              "      <td>NaN</td>\n",
              "      <td>NaN</td>\n",
              "      <td>NaN</td>\n",
              "      <td>NaN</td>\n",
              "      <td>NaN</td>\n",
              "      <td>NaN</td>\n",
              "      <td>NaN</td>\n",
              "      <td>digital print</td>\n",
              "      <td>leather</td>\n",
              "      <td>NaN</td>\n",
              "      <td>NaN</td>\n",
              "      <td>NaN</td>\n",
              "      <td>NaN</td>\n",
              "      <td>NaN</td>\n",
              "      <td>NaN</td>\n",
              "      <td>NaN</td>\n",
              "    </tr>\n",
              "    <tr>\n",
              "      <th>2</th>\n",
              "      <td>https://www.artic.edu/iiif/2/01b56179-17ff-7e0...</td>\n",
              "      <td>200.0</td>\n",
              "      <td>01b56179-17ff-7e02-baec-46ee69ec2e44</td>\n",
              "      <td>https://www.artic.edu/iiif/2/01b56179-17ff-7e0...</td>\n",
              "      <td>77443</td>\n",
              "      <td>Reflective Love, from the series \"Anthology of...</td>\n",
              "      <td>37074</td>\n",
              "      <td>Kitagawa Utamaro</td>\n",
              "      <td>TM-402</td>\n",
              "      <td>TM-17</td>\n",
              "      <td>TM-26</td>\n",
              "      <td>NaN</td>\n",
              "      <td>NaN</td>\n",
              "      <td>NaN</td>\n",
              "      <td>NaN</td>\n",
              "      <td>NaN</td>\n",
              "      <td>NaN</td>\n",
              "      <td>woodblock print</td>\n",
              "      <td>print</td>\n",
              "      <td>asian art</td>\n",
              "      <td>NaN</td>\n",
              "      <td>NaN</td>\n",
              "      <td>NaN</td>\n",
              "      <td>NaN</td>\n",
              "      <td>NaN</td>\n",
              "      <td>NaN</td>\n",
              "    </tr>\n",
              "    <tr>\n",
              "      <th>3</th>\n",
              "      <td>https://www.artic.edu/iiif/2/912de73c-db62-d7d...</td>\n",
              "      <td>200.0</td>\n",
              "      <td>912de73c-db62-d7da-6986-7dd7b7b073a1</td>\n",
              "      <td>https://www.artic.edu/iiif/2/912de73c-db62-d7d...</td>\n",
              "      <td>62271</td>\n",
              "      <td>Nude</td>\n",
              "      <td>33376</td>\n",
              "      <td>Ivan Albright</td>\n",
              "      <td>TM-78</td>\n",
              "      <td>TM-9</td>\n",
              "      <td>TM-155</td>\n",
              "      <td>NaN</td>\n",
              "      <td>NaN</td>\n",
              "      <td>NaN</td>\n",
              "      <td>NaN</td>\n",
              "      <td>NaN</td>\n",
              "      <td>NaN</td>\n",
              "      <td>oil paintings (visual works)</td>\n",
              "      <td>painting</td>\n",
              "      <td>modern and contemporary art</td>\n",
              "      <td>NaN</td>\n",
              "      <td>NaN</td>\n",
              "      <td>NaN</td>\n",
              "      <td>NaN</td>\n",
              "      <td>NaN</td>\n",
              "      <td>NaN</td>\n",
              "    </tr>\n",
              "    <tr>\n",
              "      <th>4</th>\n",
              "      <td>https://www.artic.edu/iiif/2/60efdf89-ded6-31b...</td>\n",
              "      <td>200.0</td>\n",
              "      <td>60efdf89-ded6-31b4-9994-0f9fb81df8d8</td>\n",
              "      <td>https://www.artic.edu/iiif/2/60efdf89-ded6-31b...</td>\n",
              "      <td>230594</td>\n",
              "      <td>La guerra de los frijoles (The War of the Beans)</td>\n",
              "      <td>37407</td>\n",
              "      <td>Alfredo Zalce</td>\n",
              "      <td>TM-71</td>\n",
              "      <td>TM-17</td>\n",
              "      <td>NaN</td>\n",
              "      <td>NaN</td>\n",
              "      <td>NaN</td>\n",
              "      <td>NaN</td>\n",
              "      <td>NaN</td>\n",
              "      <td>NaN</td>\n",
              "      <td>NaN</td>\n",
              "      <td>lithograph</td>\n",
              "      <td>print</td>\n",
              "      <td>NaN</td>\n",
              "      <td>NaN</td>\n",
              "      <td>NaN</td>\n",
              "      <td>NaN</td>\n",
              "      <td>NaN</td>\n",
              "      <td>NaN</td>\n",
              "      <td>NaN</td>\n",
              "    </tr>\n",
              "  </tbody>\n",
              "</table>\n",
              "</div>"
            ],
            "text/plain": [
              "                                                 url  ...  class_titles_9\n",
              "0  https://www.artic.edu/iiif/2/0cbb30ee-ca48-6a5...  ...             NaN\n",
              "1  https://www.artic.edu/iiif/2/453b14c1-209a-dca...  ...             NaN\n",
              "2  https://www.artic.edu/iiif/2/01b56179-17ff-7e0...  ...             NaN\n",
              "3  https://www.artic.edu/iiif/2/912de73c-db62-d7d...  ...             NaN\n",
              "4  https://www.artic.edu/iiif/2/60efdf89-ded6-31b...  ...             NaN\n",
              "\n",
              "[5 rows x 26 columns]"
            ]
          },
          "metadata": {
            "tags": []
          },
          "execution_count": 2
        }
      ]
    },
    {
      "cell_type": "code",
      "metadata": {
        "id": "zeJKkEWBxm7f",
        "colab_type": "code",
        "colab": {}
      },
      "source": [
        "# changing some of the data types from object to category for faster processing\n",
        "for col in ['artwork_title', 'artist']:\n",
        "    aic_art_final[col] = aic_art_final[col].astype('category')"
      ],
      "execution_count": 0,
      "outputs": []
    },
    {
      "cell_type": "code",
      "metadata": {
        "id": "Ug8FqhVQzwGb",
        "colab_type": "code",
        "colab": {}
      },
      "source": [
        "# changing some of the data types to integers\n",
        "for col in ['artwork_id', 'artist_id', 'stat_code']:\n",
        "    aic_art_final[col] = aic_art_final[col].astype(int)"
      ],
      "execution_count": 0,
      "outputs": []
    },
    {
      "cell_type": "code",
      "metadata": {
        "id": "m-d2oAahz-sh",
        "colab_type": "code",
        "colab": {}
      },
      "source": [
        "# dropping unused columns\n",
        "aic_art_final.drop(columns=['class_ids_8', 'class_ids_9', 'class_titles_8', 'class_titles_9' ], inplace=True)"
      ],
      "execution_count": 0,
      "outputs": []
    },
    {
      "cell_type": "code",
      "metadata": {
        "id": "Y7vFFdD2HjPW",
        "colab_type": "code",
        "colab": {}
      },
      "source": [
        "# sort values by artist\n",
        "aic_art_sorted = aic_art_final.sort_values(['artist'])\n",
        "aic_art_sorted.to_csv('aic_art_sorted.csv', index=None)"
      ],
      "execution_count": 0,
      "outputs": []
    },
    {
      "cell_type": "markdown",
      "metadata": {
        "id": "XAQgNVMZBacM",
        "colab_type": "text"
      },
      "source": [
        "## Start Here"
      ]
    },
    {
      "cell_type": "code",
      "metadata": {
        "id": "K52dRxYhBhMh",
        "colab_type": "code",
        "colab": {}
      },
      "source": [
        "import pandas as pd\n",
        "import numpy as np"
      ],
      "execution_count": 0,
      "outputs": []
    },
    {
      "cell_type": "code",
      "metadata": {
        "id": "jPA2D1yUmbKY",
        "colab_type": "code",
        "colab": {
          "base_uri": "https://localhost:8080/",
          "height": 454
        },
        "outputId": "28614790-0507-4bba-a2a3-e3fb5e1f39d5"
      },
      "source": [
        "# importing dataframe and checking out the number of works the top 21 artists have\n",
        "aic_art_sorted = pd.read_csv('drive/My Drive/aic_art_sorted.csv')\n",
        "print(aic_art_sorted['artist'].value_counts()[:21])\n",
        "print(f'\\nTotal number of paintings from top 21 artists: {aic_art_sorted.artist.value_counts()[:21].sum()}')\n",
        "print(f'Number of works to reduce: 4382 - reducing top 15 artists to 100 works a piece will almost get there.')\n"
      ],
      "execution_count": 49,
      "outputs": [
        {
          "output_type": "stream",
          "text": [
            "Utagawa Hiroshige                    1484\n",
            "Kawase Hasui                          596\n",
            "Katsukawa Shunsho                     580\n",
            "Katsushika Hokusai                    421\n",
            "Christian Boltanski                   398\n",
            "Tsukioka Kôgyo                        348\n",
            "Suzuki Harunobu                       324\n",
            "Kitagawa Utamaro                      272\n",
            "Torii Kiyonaga                        253\n",
            "Theodore Roussel                      231\n",
            "Hiratsuka Un'ichi                     212\n",
            "Isoda Koryusai                        200\n",
            "Tony Fitzpatrick                      182\n",
            "Utagawa Kuniyoshi                     133\n",
            "Okumura Masanobu                      113\n",
            "Utagawa Toyokuni I                     99\n",
            "Totoya Hokkei                          98\n",
            "Yoshida Hiroshi                        95\n",
            "Katsukawa Shun'ei                      93\n",
            "Katsukawa Shunko I                     90\n",
            "Utagawa Kunisada I (Toyokuni III)      87\n",
            "Name: artist, dtype: int64\n",
            "\n",
            "Total number of paintings from top 21 artists: 6309\n",
            "Number of works to reduce: 4382 - reducing top 15 artists to 100 works a piece will almost get there.\n"
          ],
          "name": "stdout"
        }
      ]
    },
    {
      "cell_type": "code",
      "metadata": {
        "id": "i38P2ELKHHcd",
        "colab_type": "code",
        "colab": {}
      },
      "source": [
        "def art_reduction(artist_list):\n",
        "  '''function to reduce artists with over 100 pieces of art to 91 pieces total'''\n",
        "  for artist in artist_list:\n",
        "    if (aic_art_sorted.artist.values == artist).sum() > 100:\n",
        "      num_works = (aic_art_sorted.artist.values == artist).sum()\n",
        "      hundred_left = (num_works - 91)\n",
        "      first_index = aic_art_sorted.artist.searchsorted(artist, side='left')\n",
        "      aic_art_sorted.drop(aic_art_sorted.index[first_index : first_index + hundred_left], inplace=True)"
      ],
      "execution_count": 0,
      "outputs": []
    },
    {
      "cell_type": "code",
      "metadata": {
        "id": "8A5vHZQgzKdd",
        "colab_type": "code",
        "colab": {}
      },
      "source": [
        "# get list of artists and run art reduction function\n",
        "art_list = aic_art_sorted['artist'].tolist()\n",
        "art_reduction(art_list)"
      ],
      "execution_count": 0,
      "outputs": []
    },
    {
      "cell_type": "code",
      "metadata": {
        "id": "2k3bWilrD_4A",
        "colab_type": "code",
        "colab": {
          "base_uri": "https://localhost:8080/",
          "height": 437
        },
        "outputId": "a4095c94-8ac2-472a-d2f8-66a3d88b1a32"
      },
      "source": [
        "# check new counts\n",
        "print(aic_art_sorted['artist'].value_counts()[:21])\n",
        "print(f'\\nTotal number of paintings from top 21 artists: {aic_art_sorted.artist.value_counts()[:21].sum()}')"
      ],
      "execution_count": 52,
      "outputs": [
        {
          "output_type": "stream",
          "text": [
            "Utagawa Toyokuni I                   99\n",
            "Totoya Hokkei                        98\n",
            "Yoshida Hiroshi                      95\n",
            "Katsukawa Shun'ei                    93\n",
            "Utagawa Hiroshige                    91\n",
            "Tsukioka Kôgyo                       91\n",
            "Okumura Masanobu                     91\n",
            "Utagawa Kuniyoshi                    91\n",
            "Christian Boltanski                  91\n",
            "Theodore Roussel                     91\n",
            "Isoda Koryusai                       91\n",
            "Suzuki Harunobu                      91\n",
            "Torii Kiyonaga                       91\n",
            "Katsushika Hokusai                   91\n",
            "Tony Fitzpatrick                     91\n",
            "Hiratsuka Un'ichi                    91\n",
            "Katsukawa Shunsho                    91\n",
            "Kawase Hasui                         91\n",
            "Kitagawa Utamaro                     91\n",
            "Katsukawa Shunko I                   90\n",
            "Utagawa Kunisada I (Toyokuni III)    87\n",
            "Name: artist, dtype: int64\n",
            "\n",
            "Total number of paintings from top 21 artists: 1927\n"
          ],
          "name": "stdout"
        }
      ]
    },
    {
      "cell_type": "code",
      "metadata": {
        "id": "nnmRr-M_H_hi",
        "colab_type": "code",
        "colab": {
          "base_uri": "https://localhost:8080/",
          "height": 34
        },
        "outputId": "44b4e69f-1c93-4a03-99e0-fcd444db1fea"
      },
      "source": [
        "# 10k images!\n",
        "aic_art_sorted.shape"
      ],
      "execution_count": 53,
      "outputs": [
        {
          "output_type": "execute_result",
          "data": {
            "text/plain": [
              "(10000, 22)"
            ]
          },
          "metadata": {
            "tags": []
          },
          "execution_count": 53
        }
      ]
    },
    {
      "cell_type": "code",
      "metadata": {
        "id": "oaxC2rPdj00a",
        "colab_type": "code",
        "colab": {}
      },
      "source": [
        "# saving new dataframe\n",
        "aic_art_sorted.to_csv('aic_10k.csv', index=None)"
      ],
      "execution_count": 0,
      "outputs": []
    },
    {
      "cell_type": "markdown",
      "metadata": {
        "id": "_bqMRpX_mBMj",
        "colab_type": "text"
      },
      "source": [
        "# Rewriting Google API Color Program\n",
        "I need to make it easier to keep track of which colors belong to which painting."
      ]
    },
    {
      "cell_type": "code",
      "metadata": {
        "id": "hwZZkt1dnaww",
        "colab_type": "code",
        "colab": {
          "base_uri": "https://localhost:8080/",
          "height": 122
        },
        "outputId": "966473f8-a921-4d6f-cfab-8749b6e0b659"
      },
      "source": [
        "# install Google Cloud Vision\n",
        "!pip install google-cloud-vision -q gwpy"
      ],
      "execution_count": 60,
      "outputs": [
        {
          "output_type": "stream",
          "text": [
            "\u001b[K     |████████████████████████████████| 440kB 5.0MB/s \n",
            "\u001b[K     |████████████████████████████████| 1.4MB 15.9MB/s \n",
            "\u001b[K     |████████████████████████████████| 51kB 7.7MB/s \n",
            "\u001b[K     |████████████████████████████████| 61kB 7.7MB/s \n",
            "\u001b[K     |████████████████████████████████| 2.7MB 21.5MB/s \n",
            "\u001b[?25h  Building wheel for ligo-segments (setup.py) ... \u001b[?25l\u001b[?25hdone\n"
          ],
          "name": "stdout"
        }
      ]
    },
    {
      "cell_type": "code",
      "metadata": {
        "id": "JWfHeczknyTt",
        "colab_type": "code",
        "colab": {}
      },
      "source": [
        "import os\n",
        "from google.cloud import vision\n",
        "import io"
      ],
      "execution_count": 0,
      "outputs": []
    },
    {
      "cell_type": "code",
      "metadata": {
        "id": "LatRlqhnoDxf",
        "colab_type": "code",
        "colab": {}
      },
      "source": [
        "# get credentials for Google Vision API\n",
        "os.environ[\"GOOGLE_APPLICATION_CREDENTIALS\"] = '/content/drive/My Drive/MSDS462/key.json'"
      ],
      "execution_count": 0,
      "outputs": []
    },
    {
      "cell_type": "code",
      "metadata": {
        "id": "uG26Dm42oEe2",
        "colab_type": "code",
        "colab": {}
      },
      "source": [
        "# Get top 3 dominant colors of image\n",
        "red_list, green_list, blue_list, fraction_list = [], [], [], []\n",
        "\n",
        "def primary_color(path):\n",
        "    '''Detects color image properties in the file.'''\n",
        "    \n",
        "    client = vision.ImageAnnotatorClient()\n",
        "    image = vision.types.Image()\n",
        "    image.source.image_uri = path\n",
        "\n",
        "    response = client.image_properties(image=image)\n",
        "    props = response.image_properties_annotation\n",
        "\n",
        "    for color in props.dominant_colors.colors[:3]:\n",
        "        red_list.append(color.color.red)\n",
        "        green_list.append(color.color.green)\n",
        "        blue_list.append(color.color.blue)\n",
        "        fraction_list.append(color.pixel_fraction)"
      ],
      "execution_count": 0,
      "outputs": []
    },
    {
      "cell_type": "code",
      "metadata": {
        "id": "akWO4rRnuZfU",
        "colab_type": "code",
        "colab": {
          "base_uri": "https://localhost:8080/",
          "height": 54
        },
        "outputId": "99d1cf2f-2d4e-4ae7-9954-56a82adf2bb2"
      },
      "source": [
        "test_images = aic_art_sorted['url'][:5].tolist()\n",
        "print(test_images)"
      ],
      "execution_count": 80,
      "outputs": [
        {
          "output_type": "stream",
          "text": [
            "['https://www.artic.edu/iiif/2/0b73eac9-01cd-624b-6d56-ba00c8af303b/full/700,/0/default.jpg', 'https://www.artic.edu/iiif/2/7ade50d8-fe0e-edda-5610-f3aca1c779aa/full/700,/0/default.jpg', 'https://www.artic.edu/iiif/2/39ff8376-ad60-a226-7814-6fa76a2b8ee7/full/700,/0/default.jpg', 'https://www.artic.edu/iiif/2/71f1ebe0-63de-9784-a847-ea401529537b/full/700,/0/default.jpg', 'https://www.artic.edu/iiif/2/0a820aed-7c35-ea00-d6ec-15937c7be7b7/full/700,/0/default.jpg']\n"
          ],
          "name": "stdout"
        }
      ]
    },
    {
      "cell_type": "code",
      "metadata": {
        "id": "0f6kTOnZvOfS",
        "colab_type": "code",
        "colab": {}
      },
      "source": [
        "for url in test_images:\n",
        "  primary_color(url)"
      ],
      "execution_count": 0,
      "outputs": []
    },
    {
      "cell_type": "code",
      "metadata": {
        "id": "YyVOHHqrx0w9",
        "colab_type": "code",
        "colab": {
          "base_uri": "https://localhost:8080/",
          "height": 241
        },
        "outputId": "dac86ec0-4814-48d8-a3ad-2fdfbd91c6d7"
      },
      "source": [
        "test_df = pd.DataFrame(color_dict).T\n",
        "test_df"
      ],
      "execution_count": 83,
      "outputs": [
        {
          "output_type": "execute_result",
          "data": {
            "text/html": [
              "<div>\n",
              "<style scoped>\n",
              "    .dataframe tbody tr th:only-of-type {\n",
              "        vertical-align: middle;\n",
              "    }\n",
              "\n",
              "    .dataframe tbody tr th {\n",
              "        vertical-align: top;\n",
              "    }\n",
              "\n",
              "    .dataframe thead th {\n",
              "        text-align: right;\n",
              "    }\n",
              "</style>\n",
              "<table border=\"1\" class=\"dataframe\">\n",
              "  <thead>\n",
              "    <tr style=\"text-align: right;\">\n",
              "      <th></th>\n",
              "      <th>0</th>\n",
              "      <th>1</th>\n",
              "      <th>2</th>\n",
              "      <th>3</th>\n",
              "    </tr>\n",
              "  </thead>\n",
              "  <tbody>\n",
              "    <tr>\n",
              "      <th>https://www.artic.edu/iiif/2/0b73eac9-01cd-624b-6d56-ba00c8af303b/full/700,/0/default.jpg</th>\n",
              "      <td>[48.0, 242.0, 30.0, 235.0, 90.0, 32.0, 152.0, ...</td>\n",
              "      <td>[48.0, 243.0, 30.0, 231.0, 86.0, 26.0, 156.0, ...</td>\n",
              "      <td>[44.0, 238.0, 26.0, 211.0, 74.0, 19.0, 149.0, ...</td>\n",
              "      <td>[0.22055785357952118, 0.4780188202857971, 0.08...</td>\n",
              "    </tr>\n",
              "    <tr>\n",
              "      <th>https://www.artic.edu/iiif/2/7ade50d8-fe0e-edda-5610-f3aca1c779aa/full/700,/0/default.jpg</th>\n",
              "      <td>[48.0, 242.0, 30.0, 235.0, 90.0, 32.0, 152.0, ...</td>\n",
              "      <td>[48.0, 243.0, 30.0, 231.0, 86.0, 26.0, 156.0, ...</td>\n",
              "      <td>[44.0, 238.0, 26.0, 211.0, 74.0, 19.0, 149.0, ...</td>\n",
              "      <td>[0.22055785357952118, 0.4780188202857971, 0.08...</td>\n",
              "    </tr>\n",
              "    <tr>\n",
              "      <th>https://www.artic.edu/iiif/2/39ff8376-ad60-a226-7814-6fa76a2b8ee7/full/700,/0/default.jpg</th>\n",
              "      <td>[48.0, 242.0, 30.0, 235.0, 90.0, 32.0, 152.0, ...</td>\n",
              "      <td>[48.0, 243.0, 30.0, 231.0, 86.0, 26.0, 156.0, ...</td>\n",
              "      <td>[44.0, 238.0, 26.0, 211.0, 74.0, 19.0, 149.0, ...</td>\n",
              "      <td>[0.22055785357952118, 0.4780188202857971, 0.08...</td>\n",
              "    </tr>\n",
              "    <tr>\n",
              "      <th>https://www.artic.edu/iiif/2/0a820aed-7c35-ea00-d6ec-15937c7be7b7/full/700,/0/default.jpg</th>\n",
              "      <td>[48.0, 242.0, 30.0, 235.0, 90.0, 32.0, 152.0, ...</td>\n",
              "      <td>[48.0, 243.0, 30.0, 231.0, 86.0, 26.0, 156.0, ...</td>\n",
              "      <td>[44.0, 238.0, 26.0, 211.0, 74.0, 19.0, 149.0, ...</td>\n",
              "      <td>[0.22055785357952118, 0.4780188202857971, 0.08...</td>\n",
              "    </tr>\n",
              "  </tbody>\n",
              "</table>\n",
              "</div>"
            ],
            "text/plain": [
              "                                                                                                    0  ...                                                  3\n",
              "https://www.artic.edu/iiif/2/0b73eac9-01cd-624b...  [48.0, 242.0, 30.0, 235.0, 90.0, 32.0, 152.0, ...  ...  [0.22055785357952118, 0.4780188202857971, 0.08...\n",
              "https://www.artic.edu/iiif/2/7ade50d8-fe0e-edda...  [48.0, 242.0, 30.0, 235.0, 90.0, 32.0, 152.0, ...  ...  [0.22055785357952118, 0.4780188202857971, 0.08...\n",
              "https://www.artic.edu/iiif/2/39ff8376-ad60-a226...  [48.0, 242.0, 30.0, 235.0, 90.0, 32.0, 152.0, ...  ...  [0.22055785357952118, 0.4780188202857971, 0.08...\n",
              "https://www.artic.edu/iiif/2/0a820aed-7c35-ea00...  [48.0, 242.0, 30.0, 235.0, 90.0, 32.0, 152.0, ...  ...  [0.22055785357952118, 0.4780188202857971, 0.08...\n",
              "\n",
              "[4 rows x 4 columns]"
            ]
          },
          "metadata": {
            "tags": []
          },
          "execution_count": 83
        }
      ]
    }
  ]
}